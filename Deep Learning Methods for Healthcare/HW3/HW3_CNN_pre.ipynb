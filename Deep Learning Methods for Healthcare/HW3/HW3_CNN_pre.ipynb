{
  "cells": [
    {
      "cell_type": "markdown",
      "metadata": {
        "deletable": false,
        "editable": false,
        "nbgrader": {
          "cell_type": "markdown",
          "checksum": "c4e216f93ee6bf77b957ab02d368f73b",
          "grade": false,
          "grade_id": "cell-52506fc51faeb1a1",
          "locked": true,
          "schema_version": 3,
          "solution": false,
          "task": false
        }
      },
      "source": [
        "# HW3 Convolutional Neural Network\n",
        "\n",
        "## Overview\n",
        "\n",
        "In this homework, you will get introduced to CNN. More specifically, you will try CNN on X-Ray images."
      ]
    },
    {
      "cell_type": "markdown",
      "metadata": {
        "deletable": false,
        "editable": false,
        "nbgrader": {
          "cell_type": "markdown",
          "checksum": "300f5bd7da51e9b08044dd237348f669",
          "grade": false,
          "grade_id": "cell-3623199cbecde4ac",
          "locked": true,
          "schema_version": 3,
          "solution": false,
          "task": false
        }
      },
      "source": [
        "---"
      ]
    },
    {
      "cell_type": "code",
      "execution_count": null,
      "metadata": {
        "ExecuteTime": {
          "end_time": "2021-12-10T04:10:45.801823Z",
          "start_time": "2021-12-10T04:10:45.794490Z"
        },
        "deletable": false,
        "editable": false,
        "nbgrader": {
          "cell_type": "code",
          "checksum": "42d5b1c8cd292c0258961ccc2ecd42b6",
          "grade": false,
          "grade_id": "cell-83a510935b5eb408",
          "locked": true,
          "schema_version": 3,
          "solution": false,
          "task": false
        }
      },
      "outputs": [],
      "source": [
        "import os\n",
        "import random\n",
        "import numpy as np\n",
        "import torch\n",
        "import torch.nn as nn\n",
        "import torch.nn.functional as F\n",
        "import time\n",
        "\n",
        "# record start time\n",
        "_START_RUNTIME = time.time()\n",
        "\n",
        "# set seed\n",
        "seed = 24\n",
        "random.seed(seed)\n",
        "np.random.seed(seed)\n",
        "torch.manual_seed(seed)\n",
        "os.environ[\"PYTHONHASHSEED\"] = str(seed)\n",
        "\n",
        "# Define data and weight path\n",
        "DATA_PATH = \"../HW3_CNN-lib/data\"\n",
        "WEIGHT_PATH = \"../HW3_CNN-lib/resnet18_weights_9.pth\""
      ]
    },
    {
      "cell_type": "markdown",
      "metadata": {
        "deletable": false,
        "editable": false,
        "nbgrader": {
          "cell_type": "markdown",
          "checksum": "4f94957e13a49dc4796ca78fb0c7537d",
          "grade": false,
          "grade_id": "cell-3ba99a4f788dc7e8",
          "locked": true,
          "schema_version": 3,
          "solution": false,
          "task": false
        }
      },
      "source": [
        "---"
      ]
    },
    {
      "cell_type": "markdown",
      "metadata": {
        "deletable": false,
        "editable": false,
        "nbgrader": {
          "cell_type": "markdown",
          "checksum": "cdd8366623622a245451a980fa458b13",
          "grade": false,
          "grade_id": "cell-f24c5a8a552afa64",
          "locked": true,
          "schema_version": 3,
          "solution": false,
          "task": false
        }
      },
      "source": [
        "## About Raw Data\n",
        "\n",
        "Pneumonia is a lung disease characterized by inflammation of the airspaces in the lungs, most commonly due to an infection. In this section, you will train a CNN model to classify Pneumonia disease (Pneumonia/Normal) based on chest X-Ray images. \n",
        "\n",
        "The chest X-ray images (anterior-posterior) were selected from retrospective cohorts of pediatric patients of one to five years old. All chest X-ray imaging was performed as part of patients\u2019 routine clinical care. You can refer to this [link](https://www.cell.com/cell/fulltext/S0092-8674(18)30154-5) for more information."
      ]
    },
    {
      "cell_type": "markdown",
      "metadata": {
        "deletable": false,
        "editable": false,
        "nbgrader": {
          "cell_type": "markdown",
          "checksum": "349700e55d0cb2d500bd7ee612ce7451",
          "grade": false,
          "grade_id": "cell-115765ba096f745e",
          "locked": true,
          "schema_version": 3,
          "solution": false,
          "task": false
        }
      },
      "source": [
        "## 1 Load and Visualize the Data [20 points]\n",
        "\n",
        "The data is under `DATA_PATH`. In this part, you are required to load the data into the data loader, and calculate some statistics."
      ]
    },
    {
      "cell_type": "code",
      "execution_count": null,
      "metadata": {
        "ExecuteTime": {
          "end_time": "2021-12-10T04:10:45.811115Z",
          "start_time": "2021-12-10T04:10:45.804287Z"
        },
        "deletable": false,
        "nbgrader": {
          "cell_type": "code",
          "checksum": "75c131ad99181cd2730859cb2616287a",
          "grade": false,
          "grade_id": "cell-dff183ec4786dcf2",
          "locked": false,
          "schema_version": 3,
          "solution": true,
          "task": false
        }
      },
      "outputs": [],
      "source": [
        "#input\n",
        "# folder: str, 'train', 'val', or 'test'\n",
        "#output\n",
        "# number_normal: number of normal samples in the given folder\n",
        "# number_pneumonia: number of pneumonia samples in the given folder\n",
        "def get_count_metrics(folder, data_path=DATA_PATH):\n",
        "    \n",
        "    '''\n",
        "    TODO: Implement this function to return the number of normal and pneumonia samples.\n",
        "          Hint: !ls $DATA_PATH\n",
        "    '''\n",
        "    \n",
        "    # your code here\n",
        "    raise NotImplementedError\n",
        "\n",
        "    return number_normal, number_pneumonia\n",
        "\n",
        "\n",
        "#output\n",
        "# train_loader: train data loader (type: torch.utils.data.DataLoader)\n",
        "# val_loader: val data loader (type: torch.utils.data.DataLoader)\n",
        "def load_data(data_path=DATA_PATH):\n",
        "    \n",
        "    '''\n",
        "    TODO: Implement this function to return the data loader for \n",
        "    train and validation dataset. Set batchsize to 32.\n",
        "    \n",
        "    You should add the following transforms (https://pytorch.org/docs/stable/torchvision/transforms.html):\n",
        "        1. transforms.RandomResizedCrop: the images should be cropped to 224 x 224\n",
        "        2. transforms.ToTensor: just to convert data/labels to tensors\n",
        "    You should set the *shuffle* flag for *train_loader* to be True, and False for *val_loader*.\n",
        "    \n",
        "    HINT: Consider using `torchvision.datasets.ImageFolder`.\n",
        "    '''\n",
        "\n",
        "    import torchvision\n",
        "    import torchvision.datasets as datasets\n",
        "    import torchvision.transforms as transforms\n",
        "\n",
        "    # your code here\n",
        "    raise NotImplementedError\n",
        "    \n",
        "    return train_loader, val_loader"
      ]
    },
    {
      "cell_type": "code",
      "execution_count": null,
      "metadata": {
        "ExecuteTime": {
          "end_time": "2021-12-10T04:10:45.821446Z",
          "start_time": "2021-12-10T04:10:45.812978Z"
        },
        "deletable": false,
        "editable": false,
        "nbgrader": {
          "cell_type": "code",
          "checksum": "e0932645fee3c70b105dcd92526182c8",
          "grade": true,
          "grade_id": "cell-458b2462e7d5c860",
          "locked": true,
          "points": 10,
          "schema_version": 3,
          "solution": false,
          "task": false
        }
      },
      "outputs": [],
      "source": [
        "'''\n",
        "AUTOGRADER CELL. DO NOT MODIFY THIS.\n",
        "'''\n",
        "\n",
        "assert type(get_count_metrics('train')) is tuple\n",
        "assert type(get_count_metrics('val')) is tuple\n",
        "\n",
        "assert get_count_metrics('train') == (335, 387)\n",
        "assert get_count_metrics('val') == (64, 104)\n"
      ]
    },
    {
      "cell_type": "code",
      "execution_count": null,
      "metadata": {
        "ExecuteTime": {
          "end_time": "2021-12-10T04:10:46.021122Z",
          "start_time": "2021-12-10T04:10:45.823791Z"
        },
        "deletable": false,
        "editable": false,
        "nbgrader": {
          "cell_type": "code",
          "checksum": "27672d6390ad4ecb429144d74dafdcca",
          "grade": true,
          "grade_id": "cell-0be378369cbc90a4",
          "locked": true,
          "points": 10,
          "schema_version": 3,
          "solution": false,
          "task": false
        }
      },
      "outputs": [],
      "source": [
        "'''\n",
        "AUTOGRADER CELL. DO NOT MODIFY THIS.\n",
        "'''\n",
        "\n",
        "train_loader, val_loader = load_data()\n",
        "\n",
        "assert type(train_loader) is torch.utils.data.dataloader.DataLoader\n",
        "\n",
        "assert len(train_loader) == 23"
      ]
    },
    {
      "cell_type": "code",
      "execution_count": null,
      "metadata": {
        "ExecuteTime": {
          "end_time": "2021-12-10T04:10:47.986467Z",
          "start_time": "2021-12-10T04:10:46.022464Z"
        },
        "deletable": false,
        "editable": false,
        "nbgrader": {
          "cell_type": "code",
          "checksum": "b0f01779427aed1508bf70e4f933cd99",
          "grade": false,
          "grade_id": "cell-e908531cdc33dff4",
          "locked": true,
          "schema_version": 3,
          "solution": false,
          "task": false
        }
      },
      "outputs": [],
      "source": [
        "# DO NOT MODIFY THIS PART\n",
        "\n",
        "\n",
        "import torchvision\n",
        "import matplotlib.pyplot as plt\n",
        "\n",
        "def imshow(img, title):\n",
        "    npimg = img.numpy()\n",
        "    plt.figure(figsize=(15, 7))\n",
        "    plt.axis('off')\n",
        "    plt.imshow(np.transpose(npimg, (1, 2, 0)))\n",
        "    plt.title(title)\n",
        "    plt.show()\n",
        "\n",
        "def show_batch_images(dataloader, k=8):\n",
        "    images, labels = next(iter(dataloader))\n",
        "    images = images[:k]\n",
        "    labels = labels[:k]\n",
        "    img = torchvision.utils.make_grid(images, padding=25)\n",
        "    imshow(img, title=[\"NORMAL\" if x==0  else \"PNEUMONIA\" for x in labels])\n",
        "\n",
        "train_loader, val_loader = load_data()   \n",
        "for i in range(2):\n",
        "    show_batch_images(train_loader)"
      ]
    },
    {
      "cell_type": "markdown",
      "metadata": {
        "deletable": false,
        "editable": false,
        "nbgrader": {
          "cell_type": "markdown",
          "checksum": "3f52a2ed6e02075d8c208461e4ff5b18",
          "grade": false,
          "grade_id": "cell-9739d5ae7e1cafc5",
          "locked": true,
          "schema_version": 3,
          "solution": false,
          "task": false
        }
      },
      "source": [
        "## 2 Build the Model [35 points]\n",
        "\n",
        "This time, you will define a CNN architecture. Instead of an MLP, which used linear, fully-connected layers, you will use the following:\n",
        "- [Convolutional layers](https://pytorch.org/docs/stable/nn.html#conv2d), which can be thought of as stack of filtered images.\n",
        "- [Maxpooling layers](https://pytorch.org/docs/stable/nn.html#maxpool2d), which reduce the x-y size of an input, keeping only the most active pixels from the previous layer.\n",
        "- The usual Linear + Dropout layers to avoid overfitting and produce a 2-dim output.\n",
        "\n",
        "Below is a typical CNN architicture which consists of \\[INPUT - CONV - RELU - POOL - FC\\] layers.\n",
        "\n",
        "<img src=./img/convnet.jpg>"
      ]
    },
    {
      "cell_type": "markdown",
      "metadata": {
        "deletable": false,
        "editable": false,
        "nbgrader": {
          "cell_type": "markdown",
          "checksum": "cab339c9d8cfeb03abfe901560e1da07",
          "grade": false,
          "grade_id": "cell-7fa15685c339c1c7",
          "locked": true,
          "schema_version": 3,
          "solution": false,
          "task": false
        }
      },
      "source": [
        "### 2.1 Convolutional Layer Output Volume [10 points]\n",
        "Before we get started, let us do a warm-up question.\n",
        "\n",
        "Calculate the output volume for a convolutional layer: given the input volume size $W$, the kernel/filter size $F$, the stride $S$, and the amount of zero padding $P$ used on the border, calculate the output volume size."
      ]
    },
    {
      "cell_type": "code",
      "execution_count": null,
      "metadata": {
        "ExecuteTime": {
          "end_time": "2021-12-10T04:10:47.991680Z",
          "start_time": "2021-12-10T04:10:47.988362Z"
        },
        "deletable": false,
        "nbgrader": {
          "cell_type": "code",
          "checksum": "08225ef81caa21c71a066010f593f1f5",
          "grade": false,
          "grade_id": "cell-6d044321148f019f",
          "locked": false,
          "schema_version": 3,
          "solution": true,
          "task": false
        }
      },
      "outputs": [],
      "source": [
        "def conv_output_volume(W, F, S, P):\n",
        "    \n",
        "    \"\"\"\n",
        "    TODO: Given the input volume size $W$, the kernel/filter size $F$, \n",
        "    the stride $S$, and the amount of zero padding $P$ used on the border, \n",
        "    calculate the output volume size.\n",
        "    Note the output should a integer. \n",
        "    \"\"\"\n",
        "    \n",
        "    # your code here\n",
        "    raise NotImplementedError"
      ]
    },
    {
      "cell_type": "code",
      "execution_count": null,
      "metadata": {
        "ExecuteTime": {
          "end_time": "2021-12-10T04:10:47.996728Z",
          "start_time": "2021-12-10T04:10:47.992777Z"
        },
        "deletable": false,
        "editable": false,
        "nbgrader": {
          "cell_type": "code",
          "checksum": "44d6d429a8233a0d2436753309603d22",
          "grade": true,
          "grade_id": "cell-00dd6923b07cc0c6",
          "locked": true,
          "points": 10,
          "schema_version": 3,
          "solution": false,
          "task": false
        }
      },
      "outputs": [],
      "source": [
        "'''\n",
        "AUTOGRADER CELL. DO NOT MODIFY THIS.\n",
        "'''\n",
        "\n",
        "assert conv_output_volume(W=7, F=3, S=1, P=0) == 5\n",
        "assert conv_output_volume(W=7, F=3, S=2, P=0) == 3\n",
        "assert conv_output_volume(W=8, F=3, S=2, P=0) == 3\n"
      ]
    },
    {
      "cell_type": "markdown",
      "metadata": {
        "deletable": false,
        "editable": false,
        "nbgrader": {
          "cell_type": "markdown",
          "checksum": "8d81a0491741ab4ef320c2433ef40752",
          "grade": false,
          "grade_id": "cell-cdc8af08d2459036",
          "locked": true,
          "schema_version": 3,
          "solution": false,
          "task": false
        }
      },
      "source": [
        "### 2.2 Define CNN [15 points]\n",
        "Now, define your own CNN model below. Note that, the more convolutional layers you include, the more complex patterns the model can detect. For now, it is suggested that your final model include 2 or 3 convolutional layers as well as linear layers + dropout in between to avoid overfitting.\n",
        "\n",
        "It is also a good practice to look at existing research and implementations of related models as a starting point for defining your own models. You may find it useful to look at this [PyTorch classification example](https://github.com/pytorch/tutorials/blob/master/beginner_source/blitz/cifar10_tutorial.py).\n",
        "\n",
        "Please do not use the same model structure as in Section 2.3. Specifically, let's define a small model with less than 10 layers/modules (must be fewer than 20). "
      ]
    },
    {
      "cell_type": "code",
      "execution_count": null,
      "metadata": {
        "ExecuteTime": {
          "end_time": "2021-12-10T04:10:48.005905Z",
          "start_time": "2021-12-10T04:10:47.998518Z"
        },
        "deletable": false,
        "nbgrader": {
          "cell_type": "code",
          "checksum": "e87d779109da8ec98d4f2b1038d36600",
          "grade": false,
          "grade_id": "cell-f9d28d3f0be3a1a1",
          "locked": false,
          "schema_version": 3,
          "solution": true,
          "task": false
        }
      },
      "outputs": [],
      "source": [
        "class SimpleCNN(nn.Module):\n",
        "    def __init__(self):\n",
        "        super(SimpleCNN, self).__init__()\n",
        "        # your code here\n",
        "        raise NotImplementedError\n",
        "\n",
        "    def forward(self, x):\n",
        "        #input is of shape (batch_size=32, 3, 224, 224) if you did the dataloader right\n",
        "        # your code here\n",
        "        raise NotImplementedError"
      ]
    },
    {
      "cell_type": "code",
      "execution_count": null,
      "metadata": {
        "ExecuteTime": {
          "end_time": "2021-12-10T04:10:48.024074Z",
          "start_time": "2021-12-10T04:10:48.007786Z"
        },
        "deletable": false,
        "editable": false,
        "nbgrader": {
          "cell_type": "code",
          "checksum": "80f07ddd1b593beaa7f709ddbc5e7921",
          "grade": false,
          "grade_id": "cell-01c27cfe7bb587a3",
          "locked": true,
          "schema_version": 3,
          "solution": false,
          "task": false
        }
      },
      "outputs": [],
      "source": [
        "simple_model = SimpleCNN()\n",
        "simple_model_size = sum([param.nelement() * param.element_size() for param in simple_model.parameters()]) / 1e9\n",
        "print('SimpleCNN size in GB:', simple_model_size)\n",
        "assert simple_model_size <= 1, 'SimpleCNN is too large! Please minimize the number of parameters.'"
      ]
    },
    {
      "cell_type": "code",
      "execution_count": null,
      "metadata": {
        "ExecuteTime": {
          "end_time": "2021-12-10T04:10:48.323565Z",
          "start_time": "2021-12-10T04:10:48.027834Z"
        },
        "deletable": false,
        "editable": false,
        "nbgrader": {
          "cell_type": "code",
          "checksum": "22af47b3b41da549aefb6059251137d8",
          "grade": true,
          "grade_id": "cell-0912d310421bd203",
          "locked": true,
          "points": 15,
          "schema_version": 3,
          "solution": false,
          "task": false
        }
      },
      "outputs": [],
      "source": [
        "'''\n",
        "AUTOGRADER CELL. DO NOT MODIFY THIS.\n",
        "'''\n",
        "simple_model = SimpleCNN()\n",
        "\n",
        "assert issubclass(type(simple_model), nn.Module), \"Your CNN model should be a torch.nn.Module instance.\"\n",
        "assert len(list(simple_model.modules())) < 20, \"Your CNN model is too big. Please re-design.\"\n",
        "\n",
        "test_input = torch.zeros(32, 3, 224, 224)\n",
        "test_output = simple_model(test_input)\n",
        "assert test_output.shape == torch.Size([32,2]), \"Your CNN model has a wrong output size.\"\n"
      ]
    },
    {
      "cell_type": "markdown",
      "metadata": {
        "deletable": false,
        "editable": false,
        "nbgrader": {
          "cell_type": "markdown",
          "checksum": "60c30d5f3a54bebccd80d4725b89a4d3",
          "grade": false,
          "grade_id": "cell-10d68ed45ec4c640",
          "locked": true,
          "schema_version": 3,
          "solution": false,
          "task": false
        }
      },
      "source": [
        "### 2.3 Using Predefined CNN Model [10 points]\n",
        "In this section, we will import a predefined CNN, the ResNet18 model, which is pretty successful in many image classification tasks. We will modify the last layer to use it on our binary classification problem, but keep the rest of the structure the same"
      ]
    },
    {
      "cell_type": "code",
      "execution_count": null,
      "metadata": {
        "ExecuteTime": {
          "end_time": "2021-12-10T04:10:48.329311Z",
          "start_time": "2021-12-10T04:10:48.325103Z"
        },
        "deletable": false,
        "nbgrader": {
          "cell_type": "code",
          "checksum": "60099c1fc30ecff66def63d61afb4918",
          "grade": false,
          "grade_id": "cell-20edf57c4a9a510d",
          "locked": false,
          "schema_version": 3,
          "solution": true,
          "task": false
        }
      },
      "outputs": [],
      "source": [
        "#output\n",
        "# model: the cnn model\n",
        "def get_cnn_model():\n",
        "    \n",
        "    \"\"\"\n",
        "    TODO: Define the CNN model here. \n",
        "        We will use a ResNet18 model. \n",
        "        For now, please set `pretrained=False`. We will manually load the weights later.\n",
        "        Then, replace the last layer (model.fc) with a nn.Linear layer\n",
        "            The new model.fc should have the same input size but a new output_size of 2\n",
        "    \"\"\"\n",
        "    \n",
        "    from torchvision import models\n",
        "    \n",
        "    num_classes = 2\n",
        "    # your code here\n",
        "    raise NotImplementedError\n",
        "    \n",
        "    #For computation efficiency, we will freeze the weights in the bottom layers\n",
        "    for param in model.named_parameters():\n",
        "        if param[0].split(\".\")[0] == 'fc':\n",
        "            continue\n",
        "        param[1].requires_grad = False\n",
        "    return model"
      ]
    },
    {
      "cell_type": "code",
      "execution_count": null,
      "metadata": {
        "ExecuteTime": {
          "end_time": "2021-12-10T04:10:48.711935Z",
          "start_time": "2021-12-10T04:10:48.330856Z"
        },
        "deletable": false,
        "editable": false,
        "nbgrader": {
          "cell_type": "code",
          "checksum": "ce11646ffe92083ab6c64ede4b25ca1b",
          "grade": true,
          "grade_id": "cell-5dc1c89e9698d0d8",
          "locked": true,
          "points": 10,
          "schema_version": 3,
          "solution": false,
          "task": false
        }
      },
      "outputs": [],
      "source": [
        "'''\n",
        "AUTOGRADER CELL. DO NOT MODIFY THIS.\n",
        "'''\n",
        "\n",
        "assert issubclass(type(get_cnn_model()), nn.Module), \"Your CNN model should be a torch.nn.Module instance\"\n",
        "model = get_cnn_model()\n",
        "assert len(list(model.modules())) == 68, \"# of modules mismtach - Please use ResNet18\"\n",
        "assert len(list(model.parameters())) == 62, \"# of parameter tensors mismtach - different model. Please use ResNet18\"\n"
      ]
    },
    {
      "cell_type": "markdown",
      "metadata": {
        "deletable": false,
        "editable": false,
        "nbgrader": {
          "cell_type": "markdown",
          "checksum": "bce659dde8cd0c6a9c6b9671dc36607c",
          "grade": false,
          "grade_id": "cell-3b34f300dcde3d1b",
          "locked": true,
          "schema_version": 3,
          "solution": false,
          "task": false
        }
      },
      "source": [
        "## 3 Training the Network [25 points]\n",
        "\n",
        "Due to the computation environment constraint, we will load some pre-trained weights instead of training everything from scratch. "
      ]
    },
    {
      "cell_type": "code",
      "execution_count": null,
      "metadata": {
        "ExecuteTime": {
          "end_time": "2021-12-10T04:10:48.889492Z",
          "start_time": "2021-12-10T04:10:48.713183Z"
        },
        "deletable": false,
        "editable": false,
        "nbgrader": {
          "cell_type": "code",
          "checksum": "5aa86039e33d49c1bb3473d2552cd395",
          "grade": false,
          "grade_id": "cell-51d29fbc3eaa9c24",
          "locked": true,
          "schema_version": 3,
          "solution": false,
          "task": false
        }
      },
      "outputs": [],
      "source": [
        "model = get_cnn_model()\n",
        "#Load the pretrained weights\n",
        "#If it fails, it probably means you did not define the model correctly\n",
        "model.load_state_dict(torch.load(WEIGHT_PATH, map_location='cpu'))"
      ]
    },
    {
      "cell_type": "markdown",
      "metadata": {
        "deletable": false,
        "editable": false,
        "nbgrader": {
          "cell_type": "markdown",
          "checksum": "2060707a8cce5ba7b696eb8451da7984",
          "grade": false,
          "grade_id": "cell-8d597f91c30006e4",
          "locked": true,
          "schema_version": 3,
          "solution": false,
          "task": false
        }
      },
      "source": [
        "### 3.1 Criterion and Opimizer [10 points]\n",
        "In this part, you will define the loss and optimizer for the model and then perform model training."
      ]
    },
    {
      "cell_type": "code",
      "execution_count": null,
      "metadata": {
        "ExecuteTime": {
          "end_time": "2021-12-10T04:10:48.895999Z",
          "start_time": "2021-12-10T04:10:48.891337Z"
        },
        "deletable": false,
        "nbgrader": {
          "cell_type": "code",
          "checksum": "b892920249a6445c950f412b6cf86ff8",
          "grade": false,
          "grade_id": "cell-628dc1ce0bf25175",
          "locked": false,
          "schema_version": 3,
          "solution": true,
          "task": false
        }
      },
      "outputs": [],
      "source": [
        "\"\"\"\n",
        "TODO: Specify loss function (CrossEntropyLoss) and assign it to `criterion`.\n",
        "Spcify optimizer (SGD) and assign it to `optimizer`.\n",
        "Hint: the learning rate is usually a small number on the scale of 1e-4 ~ 1e-2\n",
        "\"\"\"\n",
        "\n",
        "criterion = None\n",
        "optimizer = None\n",
        "\n",
        "# your code here\n",
        "raise NotImplementedError"
      ]
    },
    {
      "cell_type": "code",
      "execution_count": null,
      "metadata": {
        "ExecuteTime": {
          "end_time": "2021-12-10T04:10:48.902281Z",
          "start_time": "2021-12-10T04:10:48.897823Z"
        },
        "deletable": false,
        "editable": false,
        "nbgrader": {
          "cell_type": "code",
          "checksum": "eead905bfbe42f56db4a5074e03a9e6b",
          "grade": true,
          "grade_id": "cell-40bee829e3b63b7d",
          "locked": true,
          "points": 10,
          "schema_version": 3,
          "solution": false,
          "task": false
        }
      },
      "outputs": [],
      "source": [
        "'''\n",
        "AUTOGRADER CELL. DO NOT MODIFY THIS.\n",
        "'''\n",
        "\n",
        "assert isinstance(criterion, torch.nn.modules.loss.CrossEntropyLoss)\n",
        "assert isinstance(optimizer, torch.optim.SGD)\n"
      ]
    },
    {
      "cell_type": "markdown",
      "metadata": {
        "deletable": false,
        "editable": false,
        "nbgrader": {
          "cell_type": "markdown",
          "checksum": "cecc2bb0b9e611404f60a51196d2da02",
          "grade": false,
          "grade_id": "cell-a4726bc7890c2ffa",
          "locked": true,
          "schema_version": 3,
          "solution": false,
          "task": false
        }
      },
      "source": [
        "### 3.2 Training [15 points]\n",
        "\n",
        "Now let us train the CNN model we previously created.\n",
        "\n",
        "Remember that from the previous HW, to train the model, you should follow the following step:\n",
        "- Clear the gradients of all optimized variables\n",
        "- Forward pass: compute predicted outputs by passing inputs to the model\n",
        "- Calculate the loss\n",
        "- Backward pass: compute gradient of the loss with respect to model parameters\n",
        "- Perform a single optimization step (parameter update)\n",
        "- Update average training loss\n"
      ]
    },
    {
      "cell_type": "code",
      "execution_count": null,
      "metadata": {
        "ExecuteTime": {
          "end_time": "2021-12-10T04:10:48.909909Z",
          "start_time": "2021-12-10T04:10:48.904331Z"
        },
        "deletable": false,
        "nbgrader": {
          "cell_type": "code",
          "checksum": "19e4dd5fb35c2c017880f7457021a643",
          "grade": false,
          "grade_id": "cell-b0ca171172fe71f4",
          "locked": false,
          "schema_version": 3,
          "solution": true,
          "task": false
        }
      },
      "outputs": [],
      "source": [
        "# number of epochs to train the model\n",
        "# make sure your model finish training within 4 minutes on a CPU machine\n",
        "# You can experiment different numbers for n_epochs, but even 1 epoch should be good enough.\n",
        "n_epochs = 1\n",
        "\n",
        "def train_model(model, train_dataloader, n_epoch=n_epochs, optimizer=optimizer, criterion=criterion):\n",
        "    import torch.optim as optim\n",
        "    \"\"\"\n",
        "    :param model: A CNN model\n",
        "    :param train_dataloader: the DataLoader of the training data\n",
        "    :param n_epoch: number of epochs to train\n",
        "    :return:\n",
        "        model: trained model\n",
        "    \"\"\"\n",
        "    model.train() # prep model for training\n",
        "    \n",
        "    \n",
        "    for epoch in range(n_epoch):\n",
        "        curr_epoch_loss = []\n",
        "        for data, target in train_dataloader:\n",
        "            \"\"\"\n",
        "            TODO: Within the loop, do the normal training procedures:\n",
        "                   pass the input through the model\n",
        "                   pass the output through loss_func to compute the loss (name the variable as *loss*)\n",
        "                   zero out currently accumulated gradient, use loss.basckward to backprop the gradients, then call optimizer.step\n",
        "            \"\"\"\n",
        "            # your code here\n",
        "            raise NotImplementedError\n",
        "            curr_epoch_loss.append(loss.cpu().data.numpy())\n",
        "        print(f\"Epoch {epoch}: curr_epoch_loss={np.mean(curr_epoch_loss)}\")\n",
        "    return model"
      ]
    },
    {
      "cell_type": "code",
      "execution_count": null,
      "metadata": {
        "ExecuteTime": {
          "end_time": "2021-12-10T04:11:40.799313Z",
          "start_time": "2021-12-10T04:10:48.912040Z"
        },
        "deletable": false,
        "editable": false,
        "nbgrader": {
          "cell_type": "code",
          "checksum": "707b88d0c6894da95c20917eb50f73e7",
          "grade": false,
          "grade_id": "cell-79f9007519fee573",
          "locked": true,
          "schema_version": 3,
          "solution": false,
          "task": false
        }
      },
      "outputs": [],
      "source": [
        "# get train and val data loader\n",
        "train_loader, val_loader = load_data()\n",
        "\n",
        "seed = 24\n",
        "random.seed(seed)\n",
        "np.random.seed(seed)\n",
        "torch.manual_seed(seed)\n",
        "\n",
        "model = train_model(model, train_loader)"
      ]
    },
    {
      "cell_type": "code",
      "execution_count": null,
      "metadata": {
        "ExecuteTime": {
          "start_time": "2021-12-10T04:10:45.818Z"
        },
        "deletable": false,
        "editable": false,
        "nbgrader": {
          "cell_type": "code",
          "checksum": "de74ad731922c0017aecf3f788c6257f",
          "grade": true,
          "grade_id": "cell-8bf229ea988a6488",
          "locked": true,
          "points": 15,
          "schema_version": 3,
          "solution": false,
          "task": false
        }
      },
      "outputs": [],
      "source": []
    },
    {
      "cell_type": "markdown",
      "metadata": {
        "deletable": false,
        "editable": false,
        "nbgrader": {
          "cell_type": "markdown",
          "checksum": "67627ee32ae21125f8e26815364b312c",
          "grade": false,
          "grade_id": "cell-c8836a08154e7f31",
          "locked": true,
          "schema_version": 3,
          "solution": false,
          "task": false
        }
      },
      "source": [
        "## 4 Test the Trained Network [20 points]\n",
        "\n",
        "In this step, you will test your model on the validation data and evaluate its performance."
      ]
    },
    {
      "cell_type": "code",
      "execution_count": null,
      "metadata": {
        "ExecuteTime": {
          "start_time": "2021-12-10T04:10:45.819Z"
        },
        "deletable": false,
        "nbgrader": {
          "cell_type": "code",
          "checksum": "554352c39ef693f2558c155a49bb9483",
          "grade": false,
          "grade_id": "cell-da78cbc3104cd996",
          "locked": false,
          "schema_version": 3,
          "solution": true,
          "task": false
        }
      },
      "outputs": [],
      "source": [
        "def eval_model(model, dataloader):\n",
        "    \"\"\"\n",
        "    :return:\n",
        "        Y_pred: prediction of model on the dataloder.\n",
        "            Should be an 2D numpy float array where the second dimension has length 2.\n",
        "        Y_test: truth labels. Should be an numpy array of ints\n",
        "    TODO:\n",
        "        evaluate the model using on the data in the dataloder.\n",
        "        Add all the prediction and truth to the corresponding list\n",
        "        Convert Y_pred and Y_test to numpy arrays (of shape (n_data_points, 2))\n",
        "    \"\"\"\n",
        "    model.eval()\n",
        "    Y_pred = []\n",
        "    Y_test = []\n",
        "    for data, target in dataloader:\n",
        "        # your code here\n",
        "        raise NotImplementedError\n",
        "    Y_pred = np.concatenate(Y_pred, axis=0)\n",
        "    Y_test = np.concatenate(Y_test, axis=0)\n",
        "\n",
        "    return Y_pred, Y_test"
      ]
    },
    {
      "cell_type": "code",
      "execution_count": null,
      "metadata": {
        "ExecuteTime": {
          "start_time": "2021-12-10T04:10:45.820Z"
        },
        "deletable": false,
        "editable": false,
        "nbgrader": {
          "cell_type": "code",
          "checksum": "1080d535b4f3e2ab787ff031c138ec00",
          "grade": true,
          "grade_id": "cell-c74a407692de012e",
          "locked": true,
          "points": 20,
          "schema_version": 3,
          "solution": false,
          "task": false
        }
      },
      "outputs": [],
      "source": [
        "'''\n",
        "AUTOGRADER CELL. DO NOT MODIFY THIS.\n",
        "'''\n",
        "from sklearn.metrics import accuracy_score\n",
        "\n",
        "y_pred, y_true = eval_model(model, val_loader)\n",
        "acc = accuracy_score(y_true, y_pred)\n",
        "print((\"Validation Accuracy: \" + str(acc)))\n",
        "assert acc > 0.7, \"Validation Accuracy below 0.7 for validation data!\"\n",
        "assert len(y_true) == len(y_pred) == 168, \"Output size is wrong\"\n"
      ]
    },
    {
      "cell_type": "code",
      "execution_count": null,
      "metadata": {
        "ExecuteTime": {
          "start_time": "2021-12-10T04:10:45.822Z"
        },
        "deletable": false,
        "editable": false,
        "nbgrader": {
          "cell_type": "code",
          "checksum": "1e75de0cb203a9e97517e47d62a92f95",
          "grade": false,
          "grade_id": "cell-5cf7218279fa399f",
          "locked": true,
          "schema_version": 3,
          "solution": false,
          "task": false
        }
      },
      "outputs": [],
      "source": [
        "#As noted before, please make sure the whole notebook does not exceed 4 mins on a CPU\n",
        "print(\"Total running time = {:.2f} seconds\".format(time.time() - _START_RUNTIME))"
      ]
    }
  ],
  "metadata": {
    "kernelspec": {
      "display_name": "dl4h_mooc_2111",
      "language": "python",
      "name": "dl4h_mooc_2111"
    },
    "language_info": {
      "codemirror_mode": {
        "name": "ipython",
        "version": 3
      },
      "file_extension": ".py",
      "mimetype": "text/x-python",
      "name": "python",
      "nbconvert_exporter": "python",
      "pygments_lexer": "ipython3",
      "version": "3.8.12"
    },
    "toc": {
      "base_numbering": 1,
      "nav_menu": {},
      "number_sections": false,
      "sideBar": true,
      "skip_h1_title": true,
      "title_cell": "Table of Contents",
      "title_sidebar": "Contents",
      "toc_cell": false,
      "toc_position": {
        "height": "calc(100% - 180px)",
        "left": "10px",
        "top": "150px",
        "width": "297.1875px"
      },
      "toc_section_display": true,
      "toc_window_display": true
    },
    "varInspector": {
      "cols": {
        "lenName": 16,
        "lenType": 16,
        "lenVar": 40
      },
      "kernels_config": {
        "python": {
          "delete_cmd_postfix": "",
          "delete_cmd_prefix": "del ",
          "library": "var_list.py",
          "varRefreshCmd": "print(var_dic_list())"
        },
        "r": {
          "delete_cmd_postfix": ") ",
          "delete_cmd_prefix": "rm(",
          "library": "var_list.r",
          "varRefreshCmd": "cat(var_dic_list()) "
        }
      },
      "types_to_exclude": [
        "module",
        "function",
        "builtin_function_or_method",
        "instance",
        "_Feature"
      ],
      "window_display": false
    }
  },
  "nbformat": 4,
  "nbformat_minor": 2
}