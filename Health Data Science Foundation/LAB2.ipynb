{
 "cells": [
  {
   "cell_type": "markdown",
   "metadata": {
    "deletable": false,
    "editable": false,
    "nbgrader": {
     "cell_type": "markdown",
     "checksum": "c4113e28c8c8f948ad6d804dbc2c8880",
     "grade": false,
     "grade_id": "cell-f4870d4db37c3f9b",
     "locked": true,
     "schema_version": 3,
     "solution": false,
     "task": false
    }
   },
   "source": [
    "# Lab 2\n",
    "\n",
    "Preparing the data, computing basic statistics, and constructing simple models are essential steps for data science practice. In this lab, we will try the whole pipeline using PyTorch. Specifically, we will first get familar with the implementation of DNN in PyTorch. Then, we will perform mortality prediction based on the last visit's diagnosis codes using DNN.\n",
    "\n",
    "\n",
    "Table of Contents:\n",
    "- Nonlinearity\n",
    "- DNN with Pytorch\n",
    "- Assignment\n",
    "    - Preprocessing\n",
    "    - DNN Model\n",
    "    \n",
    "Some contents of this lab are adapted from [Dive into Deep Learning](https://d2l.ai) and [Official PyTorch Tutorials](https://pytorch.org/tutorials/)."
   ]
  },
  {
   "cell_type": "code",
   "execution_count": null,
   "metadata": {
    "ExecuteTime": {
     "end_time": "2021-11-17T03:54:37.356729Z",
     "start_time": "2021-11-17T03:54:35.739603Z"
    },
    "deletable": false,
    "editable": false,
    "nbgrader": {
     "cell_type": "code",
     "checksum": "612c9e91df6c6809d04abab19043ac9e",
     "grade": false,
     "grade_id": "cell-257d7cb29d8f5384",
     "locked": true,
     "schema_version": 3,
     "solution": false,
     "task": false
    }
   },
   "outputs": [],
   "source": [
    "import os\n",
    "import csv\n",
    "import random\n",
    "import pandas as pd\n",
    "import numpy as np\n",
    "import torch\n",
    "import torch.nn as nn\n",
    "import torch.nn.functional as F\n",
    "from collections import Counter\n",
    "import matplotlib.pyplot as plt"
   ]
  },
  {
   "cell_type": "code",
   "execution_count": null,
   "metadata": {
    "ExecuteTime": {
     "end_time": "2021-11-17T03:54:37.363515Z",
     "start_time": "2021-11-17T03:54:37.358537Z"
    },
    "deletable": false,
    "editable": false,
    "nbgrader": {
     "cell_type": "code",
     "checksum": "9029d3810bb6124fb27bf834fee78337",
     "grade": false,
     "grade_id": "cell-90f9cbda87176f31",
     "locked": true,
     "schema_version": 3,
     "solution": false,
     "task": false
    }
   },
   "outputs": [],
   "source": [
    "# set seed\n",
    "seed = 42\n",
    "random.seed(seed)\n",
    "np.random.seed(seed)\n",
    "torch.manual_seed(seed)\n",
    "os.environ[\"PYTHONHASHSEED\"] = str(seed)"
   ]
  },
  {
   "cell_type": "code",
   "execution_count": null,
   "metadata": {
    "ExecuteTime": {
     "end_time": "2021-11-17T03:54:37.368268Z",
     "start_time": "2021-11-17T03:54:37.365455Z"
    },
    "deletable": false,
    "editable": false,
    "nbgrader": {
     "cell_type": "code",
     "checksum": "8cc89e0b9a49bac49e30dba509052e04",
     "grade": false,
     "grade_id": "cell-e1a01c7b82a8eb40",
     "locked": true,
     "schema_version": 3,
     "solution": false,
     "task": false
    }
   },
   "outputs": [],
   "source": [
    "# make dir \"deliverables\"\n",
    "DELIVERABLE_PATH = 'deliverables/'\n",
    "if not os.path.isdir(DELIVERABLE_PATH):\n",
    "    os.mkdir(DELIVERABLE_PATH)"
   ]
  },
  {
   "cell_type": "code",
   "execution_count": null,
   "metadata": {
    "ExecuteTime": {
     "end_time": "2021-11-17T03:54:37.509033Z",
     "start_time": "2021-11-17T03:54:37.370566Z"
    },
    "deletable": false,
    "editable": false,
    "nbgrader": {
     "cell_type": "code",
     "checksum": "ed55047946e59625bfe882e42b2cfed9",
     "grade": false,
     "grade_id": "cell-da2796b5940c6a84",
     "locked": true,
     "schema_version": 3,
     "solution": false,
     "task": false
    }
   },
   "outputs": [],
   "source": [
    "DATA_PATH = \"../LAB2-lib/data\"\n",
    "assert os.path.isdir(DATA_PATH)\n",
    "!ls {DATA_PATH}"
   ]
  },
  {
   "cell_type": "markdown",
   "metadata": {
    "deletable": false,
    "editable": false,
    "nbgrader": {
     "cell_type": "markdown",
     "checksum": "e2105aa573d16592bc4fb3990a7e2381",
     "grade": false,
     "grade_id": "cell-c153730c01a7ca1e",
     "locked": true,
     "schema_version": 3,
     "solution": false,
     "task": false
    }
   },
   "source": [
    "## 1. Nonlinearity"
   ]
  },
  {
   "cell_type": "markdown",
   "metadata": {
    "deletable": false,
    "editable": false,
    "nbgrader": {
     "cell_type": "markdown",
     "checksum": "64cad7c78e46a95df11ca2895920c520",
     "grade": false,
     "grade_id": "cell-196a7956b1057e50",
     "locked": true,
     "schema_version": 3,
     "solution": false,
     "task": false
    }
   },
   "source": [
    "### 1.1 Linear Models May Go Wrong\n",
    "\n",
    "Previously, we implement the linear regression model. However, linear model may sometimes go wrong. \n",
    "\n",
    "This is because linearity implies the weaker assumption of monotonicity: that any increase in our feature must either always cause an increase in our model’s output (if the corresponding weight is positive), or always cause a decrease in our model’s output (if the corresponding weight is negative). \n",
    "\n",
    "However, we can easily come up with examples that violate monotonicity. Say for example that we want to predict probability of death based on body temperature. For individuals with a body temperature above 37°C (98.6°F), higher temperatures indicate greater risk. However, for individuals with body temperatures below 37°C, higher temperatures indicate lower risk! In this case too, we might resolve the problem with some clever feature engineering. Namely, we might use the distance from 37°C as our feature.\n",
    "\n",
    "But what if we want to predict mortality based on diagnosis. It is very hard to perform feature engineering, which requires a lot of domain knowledge."
   ]
  },
  {
   "cell_type": "markdown",
   "metadata": {
    "deletable": false,
    "editable": false,
    "nbgrader": {
     "cell_type": "markdown",
     "checksum": "bbee2f1e7e4a9d779fa24ef481f55758",
     "grade": false,
     "grade_id": "cell-d7f844ab52969587",
     "locked": true,
     "schema_version": 3,
     "solution": false,
     "task": false
    }
   },
   "source": [
    "### 1.2 Incorporating Hidden Layers\n",
    "\n",
    "We can overcome these limitations of linear models and handle a more general class of functions by incorporating one or more hidden layers. The easiest way to do this is to stack many fully-connected layers on top of each other. Each layer feeds into the layer above it, until we generate outputs. We can think of the first $L−1$ layers as our representation and the final layer as our linear predictor. This architecture is commonly called a multilayer perceptron, often abbreviated as MLP. Below, we depict an MLP diagrammatically\n",
    "\n",
    "<img src='./img/mlp.svg'>\n",
    "\n",
    "Formally, this MLP can be expressed as:\n",
    "$$\n",
    "\\begin{split}\\begin{aligned}\n",
    "    \\mathbf{H} & = \\mathbf{X} \\mathbf{W}^{(1)} + \\mathbf{b}^{(1)}, \\\\\n",
    "    \\mathbf{O} & = \\mathbf{H}\\mathbf{W}^{(2)} + \\mathbf{b}^{(2)}.\n",
    "\\end{aligned}\\end{split}\n",
    "$$"
   ]
  },
  {
   "cell_type": "markdown",
   "metadata": {
    "deletable": false,
    "editable": false,
    "nbgrader": {
     "cell_type": "markdown",
     "checksum": "c0f6b4bd338c3c7837cec5f61b7bbbb9",
     "grade": false,
     "grade_id": "cell-abb5ba3eed57d4a5",
     "locked": true,
     "schema_version": 3,
     "solution": false,
     "task": false
    }
   },
   "source": [
    "### 1.3 From Linear to Nonlinear\n",
    "\n",
    "You might be surprised to find out that—in the model defined above—we gain nothing for our troubles! The reason is plain. The hidden units above are given by an affine function of the inputs, and the outputs are just an affine function of the hidden units. An affine function of an affine function is itself an affine function. Moreover, our linear model was already capable of representing any affine function. That is:\n",
    "\n",
    "$$\n",
    "\\mathbf{O} = (\\mathbf{X} \\mathbf{W}^{(1)} + \\mathbf{b}^{(1)})\\mathbf{W}^{(2)} + \\mathbf{b}^{(2)} = \\mathbf{X} \\mathbf{W}^{(1)}\\mathbf{W}^{(2)} + \\mathbf{b}^{(1)} \\mathbf{W}^{(2)} + \\mathbf{b}^{(2)} = \\mathbf{X} \\mathbf{W} + \\mathbf{b}.\n",
    "$$\n",
    "\n",
    "In order to realize the potential of multilayer architectures, we need one more key ingredient: a nonlinear activation function $\\sigma$ to be applied to each hidden unit following the affine transformation. The outputs of activation functions (e.g.,  $\\sigma(\\cdot))$) are called activations. In general, with activation functions in place, it is no longer possible to collapse our MLP into a linear model:\n",
    "\n",
    "$$\n",
    "\\begin{split}\\begin{aligned}\n",
    "    \\mathbf{H} & = \\sigma(\\mathbf{X} \\mathbf{W}^{(1)} + \\mathbf{b}^{(1)}), \\\\\n",
    "    \\mathbf{O} & = \\mathbf{H}\\mathbf{W}^{(2)} + \\mathbf{b}^{(2)}.\\\\\n",
    "\\end{aligned}\\end{split}\n",
    "$$\n",
    "\n",
    "Activation functions decide whether a neuron should be activated or not by calculating the weighted sum and further adding bias with it. They are differentiable operators to transform input signals to outputs, while most of them add non-linearity. Because activation functions are fundamental to deep learning, let us briefly survey some common activation functions."
   ]
  },
  {
   "cell_type": "markdown",
   "metadata": {
    "deletable": false,
    "editable": false,
    "nbgrader": {
     "cell_type": "markdown",
     "checksum": "4ac8d4eea17999e0caf849a012851639",
     "grade": false,
     "grade_id": "cell-7f3ec8b721abea24",
     "locked": true,
     "schema_version": 3,
     "solution": false,
     "task": false
    }
   },
   "source": [
    "**ReLU Function**\n",
    "\n",
    "The most popular choice, due to both simplicity of implementation and its good performance on a variety of predictive tasks, is the rectified linear unit (ReLU). ReLU provides a very simple nonlinear transformation. Given an element $x$, the function is defined as the maximum of that element and $0$:\n",
    "\n",
    "$$\\operatorname{ReLU}(x) = \\max(x, 0).$$\n",
    "\n",
    "Informally, the ReLU function retains only positive elements and discards all negative elements by setting the corresponding activations to 0. To gain some intuition, we can plot the function. As you can see, the activation function is piecewise linear."
   ]
  },
  {
   "cell_type": "code",
   "execution_count": null,
   "metadata": {
    "ExecuteTime": {
     "end_time": "2021-11-17T03:54:37.653329Z",
     "start_time": "2021-11-17T03:54:37.511338Z"
    },
    "deletable": false,
    "editable": false,
    "nbgrader": {
     "cell_type": "code",
     "checksum": "1c10101e58fee88b2c52d8c66440a751",
     "grade": false,
     "grade_id": "cell-60ebb974a89a0b61",
     "locked": true,
     "schema_version": 3,
     "solution": false,
     "task": false
    }
   },
   "outputs": [],
   "source": [
    "x = torch.arange(-8.0, 8.0, 0.1)\n",
    "y = torch.relu(x)\n",
    "plt.figure(figsize=(5, 2.5))\n",
    "plt.plot(x.detach(), y.detach())\n",
    "plt.xlabel('x')\n",
    "plt.ylabel('relu(x)')"
   ]
  },
  {
   "cell_type": "markdown",
   "metadata": {
    "deletable": false,
    "editable": false,
    "nbgrader": {
     "cell_type": "markdown",
     "checksum": "417eaaec44c58dd310b4e9009eefedf9",
     "grade": false,
     "grade_id": "cell-36eb6de3abb1370c",
     "locked": true,
     "schema_version": 3,
     "solution": false,
     "task": false
    }
   },
   "source": [
    "### Exercise 1 [10 points]\n",
    "\n",
    "Plot the Tanh Function.\n",
    "\n",
    "Hint: try `torch.tanh()`."
   ]
  },
  {
   "cell_type": "code",
   "execution_count": null,
   "metadata": {
    "ExecuteTime": {
     "end_time": "2021-11-17T03:54:37.766618Z",
     "start_time": "2021-11-17T03:54:37.654734Z"
    },
    "deletable": false
   },
   "outputs": [],
   "source": [
    "x = torch.arange(-8.0, 8.0, 0.1)\n",
    "y = None\n",
    "# your code here\n",
    "raise NotImplementedError\n",
    "plt.figure(figsize=(5, 2.5))\n",
    "plt.plot(x.detach(), y.detach())\n",
    "plt.xlabel('x')\n",
    "plt.ylabel('tanh(x)')"
   ]
  },
  {
   "cell_type": "code",
   "execution_count": null,
   "metadata": {
    "ExecuteTime": {
     "end_time": "2021-11-17T03:54:37.772652Z",
     "start_time": "2021-11-17T03:54:37.768399Z"
    },
    "deletable": false,
    "editable": false,
    "nbgrader": {
     "cell_type": "code",
     "checksum": "13df28d5f543d0a74f4adf0351da4590",
     "grade": true,
     "grade_id": "cell-e7d5434be6fc4d8c",
     "locked": true,
     "points": 10,
     "schema_version": 3,
     "solution": false,
     "task": false
    }
   },
   "outputs": [],
   "source": [
    "'''\n",
    "AUTOGRADER CELL. DO NOT MODIFY THIS.\n",
    "'''\n",
    "\n",
    "x = torch.arange(-8.0, 8.0, 0.1)\n",
    "assert torch.allclose(y, torch.tanh(x), rtol=1e-2)\n",
    "\n"
   ]
  },
  {
   "cell_type": "markdown",
   "metadata": {
    "deletable": false,
    "editable": false,
    "nbgrader": {
     "cell_type": "markdown",
     "checksum": "4977b42d9cd645a01e8bc82c98318e0c",
     "grade": false,
     "grade_id": "cell-f03dc28d90110ee5",
     "locked": true,
     "schema_version": 3,
     "solution": false,
     "task": false
    }
   },
   "source": [
    "## 2. DNN Model\n",
    "\n",
    "From a programing standpoint, a DNN model is represented by a class. Any subclass of it must define a forward propagation function that transforms its input into output and must store any necessary parameters. Note that some subclasses do not require any parameters at all. Finally a model must possess a backpropagation function, for purposes of calculating gradients. Fortunately, due to some behind-the-scenes magic supplied by the auto differentiation when defining our own model, we only need to worry about parameters and the forward propagation function."
   ]
  },
  {
   "cell_type": "markdown",
   "metadata": {
    "deletable": false,
    "editable": false,
    "nbgrader": {
     "cell_type": "markdown",
     "checksum": "de14fe82030dfd335343f3869ba15e6b",
     "grade": false,
     "grade_id": "cell-40cbabc78982678e",
     "locked": true,
     "schema_version": 3,
     "solution": false,
     "task": false
    }
   },
   "source": [
    "The following code generates a network with one fully-connected hidden layer with 256 units and ReLU activation, followed by a fully-connected output layer with 10 units (no activation function)."
   ]
  },
  {
   "cell_type": "code",
   "execution_count": null,
   "metadata": {
    "ExecuteTime": {
     "end_time": "2021-11-17T03:54:37.783583Z",
     "start_time": "2021-11-17T03:54:37.774116Z"
    },
    "deletable": false,
    "editable": false,
    "nbgrader": {
     "cell_type": "code",
     "checksum": "83beac1eeb75788addb20fe2fa9df004",
     "grade": false,
     "grade_id": "cell-a52ca1882d4b9f04",
     "locked": true,
     "schema_version": 3,
     "solution": false,
     "task": false
    }
   },
   "outputs": [],
   "source": [
    "net = nn.Sequential(nn.Linear(20, 256), nn.ReLU(), nn.Linear(256, 10))\n",
    "\n",
    "X = torch.rand(2, 20)\n",
    "\n",
    "net(X)"
   ]
  },
  {
   "cell_type": "markdown",
   "metadata": {
    "deletable": false,
    "editable": false,
    "nbgrader": {
     "cell_type": "markdown",
     "checksum": "ce17e562c4b173028c0388a371ff3aed",
     "grade": false,
     "grade_id": "cell-74568497cbbf083d",
     "locked": true,
     "schema_version": 3,
     "solution": false,
     "task": false
    }
   },
   "source": [
    "In this example, we constructed our model by instantiating an `nn.Sequential`, with layers in the order that they should be executed passed as arguments. In short, `nn.Sequential` defines a special kind of Module, the class that presents a model in PyTorch. It maintains an ordered list of constituent Modules. Note that each of the two fully-connected layers is an instance of the `Linear` class which is itself a subclass of Module. The forward propagation (forward) function is also remarkably simple: it chains each block in the list together, passing the output of each as the input to the next. Note that until now, we have been invoking our models via the construction `net(X)` to obtain their outputs. This is actually just shorthand for `net.__call__(X)`."
   ]
  },
  {
   "cell_type": "markdown",
   "metadata": {
    "deletable": false,
    "editable": false,
    "nbgrader": {
     "cell_type": "markdown",
     "checksum": "1cf58e4192ac8d9a1d1d6804747f77f7",
     "grade": false,
     "grade_id": "cell-b570fc9502651a76",
     "locked": true,
     "schema_version": 3,
     "solution": false,
     "task": false
    }
   },
   "source": [
    "**A Custom Model**\n",
    "\n",
    "Perhaps the easiest way to develop intuition about how a model works is to implement one ourselves. Before we implement our own custom model, we briefly summarize the basic functionality that each model must provide:\n",
    "\n",
    "- Ingest input data as arguments to its forward propagation function.\n",
    "- Generate an output by having the forward propagation function return a value. Note that the output may have a different shape from the input.\n",
    "- Calculate the gradient of its output with respect to its input, which can be accessed via its backpropagation function. Typically this happens automatically.\n",
    "- Store and provide access to those parameters necessary to execute the forward propagation computation.\n",
    "- Initialize model parameters as needed.\n",
    "\n",
    "In the following snippet, we code up a model from scratch corresponding to an MLP with one hidden layer with 256 hidden units, and a 10-dimensional output layer. Note that the MLP class below inherits the class that represents a model. We will heavily rely on the parent class’s functions, supplying only our own constructor (the `__init__` function in Python) and the forward propagation function."
   ]
  },
  {
   "cell_type": "code",
   "execution_count": null,
   "metadata": {
    "ExecuteTime": {
     "end_time": "2021-11-17T03:54:37.788335Z",
     "start_time": "2021-11-17T03:54:37.784924Z"
    },
    "deletable": false,
    "editable": false,
    "nbgrader": {
     "cell_type": "code",
     "checksum": "f861068e16b90c7e301e802a7e6c0acf",
     "grade": false,
     "grade_id": "cell-e9d2111721a5bdef",
     "locked": true,
     "schema_version": 3,
     "solution": false,
     "task": false
    }
   },
   "outputs": [],
   "source": [
    "class MLP(nn.Module):\n",
    "    # Declare a layer with model parameters. Here, we declare two fully\n",
    "    # connected layers\n",
    "    def __init__(self):\n",
    "        # Call the constructor of the `MLP` parent class `Module` to perform\n",
    "        # the necessary initialization. In this way, other function arguments\n",
    "        # can also be specified during class instantiation, such as the model\n",
    "        # parameters, `params` (to be described later)\n",
    "        super().__init__()\n",
    "        self.hidden = nn.Linear(20, 256)  # Hidden layer\n",
    "        self.out = nn.Linear(256, 10)  # Output layer\n",
    "\n",
    "    # Define the forward propagation of the model, that is, how to return the\n",
    "    # required model output based on the input `X`\n",
    "    def forward(self, X):\n",
    "        # Note here we use the funtional version of ReLU defined in the\n",
    "        # nn.functional module.\n",
    "        return self.out(F.relu(self.hidden(X)))"
   ]
  },
  {
   "cell_type": "markdown",
   "metadata": {
    "deletable": false,
    "editable": false,
    "nbgrader": {
     "cell_type": "markdown",
     "checksum": "990bd9a0034566cf6dfd35278beaf278",
     "grade": false,
     "grade_id": "cell-2dfcd9d5ad851225",
     "locked": true,
     "schema_version": 3,
     "solution": false,
     "task": false
    }
   },
   "source": [
    "Let us first focus on the forward propagation function. Note that it takes X as the input, calculates the hidden representation with the activation function applied, and outputs its logits.\n",
    "\n",
    "We instantiate the MLP’s layers in the constructor and subsequently invoke these layers on each call to the forward propagation function. Note a few key details. First, our customized `__init__` function invokes the parent class’s `__init__` function via `super().__init__()` sparing us the pain of restating boilerplate code applicable to most blocks. We then instantiate our two fully-connected layers, assigning them to `self.hidden` and `self.out`. Note that unless we implement a new operator, we need not worry about the backpropagation function or parameter initialization. The system will generate these functions automatically. Let us try this out."
   ]
  },
  {
   "cell_type": "code",
   "execution_count": null,
   "metadata": {
    "ExecuteTime": {
     "end_time": "2021-11-17T03:54:37.795975Z",
     "start_time": "2021-11-17T03:54:37.791773Z"
    },
    "deletable": false,
    "editable": false,
    "nbgrader": {
     "cell_type": "code",
     "checksum": "6abc92593d72aed06cdc4ab76f8d31b5",
     "grade": false,
     "grade_id": "cell-a82d3243fbe2adb1",
     "locked": true,
     "schema_version": 3,
     "solution": false,
     "task": false
    }
   },
   "outputs": [],
   "source": [
    "net = MLP()\n",
    "net(X)"
   ]
  },
  {
   "cell_type": "markdown",
   "metadata": {
    "deletable": false,
    "editable": false,
    "nbgrader": {
     "cell_type": "markdown",
     "checksum": "92633b516745e81acd60e0d1f1c281ae",
     "grade": false,
     "grade_id": "cell-fb6184c085496345",
     "locked": true,
     "schema_version": 3,
     "solution": false,
     "task": false
    }
   },
   "source": [
    "### Exercise 2 [20 points]\n",
    "\n",
    "Implement the following model architecture.\n",
    "\n",
    "Layers | Configuration | Activation Function\n",
    "--- | --- | ---\n",
    "fully connected | input size 128, output size 64 | ReLU\n",
    "fully connected | input size 64, output size 32 | ReLU\n",
    "dropout | probability 0.5 | -\n",
    "fully connected | input size 32, output size 1 | Sigmoid"
   ]
  },
  {
   "cell_type": "code",
   "execution_count": null,
   "metadata": {
    "ExecuteTime": {
     "end_time": "2021-11-17T03:54:37.802293Z",
     "start_time": "2021-11-17T03:54:37.797335Z"
    },
    "deletable": false
   },
   "outputs": [],
   "source": [
    "\"\"\"\n",
    "TODO: Build the MLP shown above.\n",
    "HINT: Consider using `nn.Linear`, `nn.Dropout`, `F.relu`, `torch.sigmoid`.\n",
    "\"\"\"\n",
    "\n",
    "class Net(nn.Module):\n",
    "    def __init__(self):\n",
    "        super(Net, self).__init__()\n",
    "        \n",
    "        # DO NOT change the names\n",
    "        self.fc1 = None\n",
    "        self.dropout = None\n",
    "        self.fc2 = None\n",
    "        \n",
    "        # your code here\n",
    "        raise NotImplementedError\n",
    "\n",
    "    def forward(self, x):\n",
    "        # your code here\n",
    "        raise NotImplementedError"
   ]
  },
  {
   "cell_type": "code",
   "execution_count": null,
   "metadata": {
    "ExecuteTime": {
     "end_time": "2021-11-17T03:54:37.810439Z",
     "start_time": "2021-11-17T03:54:37.803802Z"
    },
    "deletable": false,
    "editable": false,
    "nbgrader": {
     "cell_type": "code",
     "checksum": "4a72dae9c94158af418910b2c8f9b67f",
     "grade": true,
     "grade_id": "cell-dce6e8614d6df030",
     "locked": true,
     "points": 20,
     "schema_version": 3,
     "solution": false,
     "task": false
    }
   },
   "outputs": [],
   "source": [
    "'''\n",
    "AUTOGRADER CELL. DO NOT MODIFY THIS.\n",
    "'''\n",
    "\n",
    "model = Net()\n",
    "\n",
    "assert model.fc1.in_features == 128\n",
    "assert model.fc1.out_features == 64\n",
    "assert model.fc2.in_features == 64\n",
    "assert model.fc2.out_features == 32\n",
    "assert model.fc3.in_features == 32\n",
    "assert model.fc3.out_features == 1\n",
    "\n",
    "x = torch.rand(2, 128)\n",
    "output = model.forward(x)\n",
    "assert output.shape == (2, 1), \"Net() is wrong!\"\n",
    "\n"
   ]
  },
  {
   "cell_type": "markdown",
   "metadata": {
    "deletable": false,
    "editable": false,
    "nbgrader": {
     "cell_type": "markdown",
     "checksum": "d6ce748e1d61c0375f8d06c874d2ba71",
     "grade": false,
     "grade_id": "cell-227b69c003100c96",
     "locked": true,
     "schema_version": 3,
     "solution": false,
     "task": false
    }
   },
   "source": [
    "## Assignment [70 points]\n",
    "\n",
    "In this assignment, you will use [MIMIC-III](https://physionet.org/content/mimiciii/1.4/) clinical data as raw input to perform Mortality Prediction."
   ]
  },
  {
   "cell_type": "markdown",
   "metadata": {
    "deletable": false,
    "editable": false,
    "nbgrader": {
     "cell_type": "markdown",
     "checksum": "59fc4011c22694ea26d3fcf9381be084",
     "grade": false,
     "grade_id": "cell-8e84bea1b9889663",
     "locked": true,
     "schema_version": 3,
     "solution": false,
     "task": false
    }
   },
   "source": [
    "### Preprocessing\n",
    "\n",
    "MIMIC-III is a large, freely-available database comprising deidentified health-related data associated with over 40,000 patients who stayed in critical care units of the Beth Israel Deaconess Medical Center between 2001 and 2012.\n",
    "\n",
    "Due to license issue, we will use the [MIMIC-III Demo](https://physionet.org/content/mimiciii-demo/) dataset, which contains all intensive care unit (ICU) stays for 100 patients.\n",
    "\n",
    "The goal is to extract the diagnosis codes for each admission (model input) and the mortality information (model output)."
   ]
  },
  {
   "cell_type": "markdown",
   "metadata": {
    "deletable": false,
    "editable": false,
    "nbgrader": {
     "cell_type": "markdown",
     "checksum": "874675d3bb38f55efb730db598a79edb",
     "grade": false,
     "grade_id": "cell-4a7e7c22b12802b0",
     "locked": true,
     "schema_version": 3,
     "solution": false,
     "task": false
    }
   },
   "source": [
    "#### Patient\n",
    "\n",
    "This table defines each subject_id in the database, i.e. defines a single patient."
   ]
  },
  {
   "cell_type": "code",
   "execution_count": null,
   "metadata": {
    "ExecuteTime": {
     "end_time": "2021-11-17T03:54:37.828267Z",
     "start_time": "2021-11-17T03:54:37.811815Z"
    },
    "deletable": false,
    "editable": false,
    "nbgrader": {
     "cell_type": "code",
     "checksum": "7db2033600d05d1d231ce095cd9564d1",
     "grade": false,
     "grade_id": "cell-8e064ea3a1cfa09a",
     "locked": true,
     "schema_version": 3,
     "solution": false,
     "task": false
    }
   },
   "outputs": [],
   "source": [
    "patients = pd.read_csv(os.path.join(f'{DATA_PATH}/PATIENTS.csv'))\n",
    "print(patients.shape)\n",
    "patients.head()"
   ]
  },
  {
   "cell_type": "markdown",
   "metadata": {
    "deletable": false,
    "editable": false,
    "nbgrader": {
     "cell_type": "markdown",
     "checksum": "09f491f8b9796335a8cf5564677163fb",
     "grade": false,
     "grade_id": "cell-41cd07277d5dea42",
     "locked": true,
     "schema_version": 3,
     "solution": false,
     "task": false
    }
   },
   "source": [
    "**Convert date-of-birth to date**\n",
    "\n",
    "Previously, dob is a string. By converting it to date, we can easily calculate the patient age."
   ]
  },
  {
   "cell_type": "code",
   "execution_count": null,
   "metadata": {
    "ExecuteTime": {
     "end_time": "2021-11-17T03:54:37.833596Z",
     "start_time": "2021-11-17T03:54:37.829955Z"
    },
    "deletable": false,
    "editable": false,
    "nbgrader": {
     "cell_type": "code",
     "checksum": "06f68c6892610061c73f8b1977736cb7",
     "grade": false,
     "grade_id": "cell-949b222e6eb63536",
     "locked": true,
     "schema_version": 3,
     "solution": false,
     "task": false
    }
   },
   "outputs": [],
   "source": [
    "patients['dob'] = pd.to_datetime(patients['dob']).dt.date"
   ]
  },
  {
   "cell_type": "markdown",
   "metadata": {
    "deletable": false,
    "editable": false,
    "nbgrader": {
     "cell_type": "markdown",
     "checksum": "13e75bf6349378adf0a3ce50beab7f97",
     "grade": false,
     "grade_id": "cell-34cc84a0935efa7c",
     "locked": true,
     "schema_version": 3,
     "solution": false,
     "task": false
    }
   },
   "source": [
    "**Prepare mortality label**\n",
    "\n",
    "A valid dod_hosp means that the patient died during an individual hospital admission or ICU stay (label 1)."
   ]
  },
  {
   "cell_type": "code",
   "execution_count": null,
   "metadata": {
    "ExecuteTime": {
     "end_time": "2021-11-17T03:54:37.838910Z",
     "start_time": "2021-11-17T03:54:37.835207Z"
    },
    "deletable": false,
    "editable": false,
    "nbgrader": {
     "cell_type": "code",
     "checksum": "64cbcfe4595813746d652048fc78aa11",
     "grade": false,
     "grade_id": "cell-fa5f8f02985b9fed",
     "locked": true,
     "schema_version": 3,
     "solution": false,
     "task": false
    }
   },
   "outputs": [],
   "source": [
    "patients['mortality'] = patients['dod_hosp'].apply(lambda x: 0 if x != x else 1)"
   ]
  },
  {
   "cell_type": "markdown",
   "metadata": {
    "deletable": false,
    "editable": false,
    "nbgrader": {
     "cell_type": "markdown",
     "checksum": "1d473d1e3a26adcbe2b1d6e23b5e8f56",
     "grade": false,
     "grade_id": "cell-1b5198b93468915f",
     "locked": true,
     "schema_version": 3,
     "solution": false,
     "task": false
    }
   },
   "source": [
    "**Exclude other columns**"
   ]
  },
  {
   "cell_type": "code",
   "execution_count": null,
   "metadata": {
    "ExecuteTime": {
     "end_time": "2021-11-17T03:54:37.850059Z",
     "start_time": "2021-11-17T03:54:37.840309Z"
    },
    "deletable": false,
    "editable": false,
    "nbgrader": {
     "cell_type": "code",
     "checksum": "9f4badd9d79f0d6f55cc3778c990f138",
     "grade": false,
     "grade_id": "cell-5e88c7c406d39eb8",
     "locked": true,
     "schema_version": 3,
     "solution": false,
     "task": false
    }
   },
   "outputs": [],
   "source": [
    "patients = patients[['subject_id', 'gender', 'dob', 'mortality']]\n",
    "print(patients.shape)\n",
    "patients.head()"
   ]
  },
  {
   "cell_type": "markdown",
   "metadata": {
    "deletable": false,
    "editable": false,
    "nbgrader": {
     "cell_type": "markdown",
     "checksum": "a988c196110928630767844b6f2fb360",
     "grade": false,
     "grade_id": "cell-5398dc05defbac3d",
     "locked": true,
     "schema_version": 3,
     "solution": false,
     "task": false
    }
   },
   "source": [
    "#### Admission\n",
    "\n",
    "This table defines a patient’s hospital admission, hadm_id."
   ]
  },
  {
   "cell_type": "code",
   "execution_count": null,
   "metadata": {
    "ExecuteTime": {
     "end_time": "2021-11-17T03:54:37.871412Z",
     "start_time": "2021-11-17T03:54:37.851908Z"
    },
    "deletable": false,
    "editable": false,
    "nbgrader": {
     "cell_type": "code",
     "checksum": "c9277410c16f42d154ef40c20235fcba",
     "grade": false,
     "grade_id": "cell-e803827fe9dc797f",
     "locked": true,
     "schema_version": 3,
     "solution": false,
     "task": false
    }
   },
   "outputs": [],
   "source": [
    "admissions = pd.read_csv(os.path.join(f'{DATA_PATH}/ADMISSIONS.csv'))\n",
    "print(admissions.shape)\n",
    "admissions.head()"
   ]
  },
  {
   "cell_type": "markdown",
   "metadata": {
    "deletable": false,
    "editable": false,
    "nbgrader": {
     "cell_type": "markdown",
     "checksum": "e327cbcacca7eaa07b7068cff737e1b9",
     "grade": false,
     "grade_id": "cell-c207f05b572a921a",
     "locked": true,
     "schema_version": 3,
     "solution": false,
     "task": false
    }
   },
   "source": [
    "**Convert admittime and dischtime to date**\n",
    "\n",
    "Similar to dob, by converting them to date, we can easily calculate the patient age."
   ]
  },
  {
   "cell_type": "code",
   "execution_count": null,
   "metadata": {
    "ExecuteTime": {
     "end_time": "2021-11-17T03:54:37.877498Z",
     "start_time": "2021-11-17T03:54:37.873187Z"
    },
    "deletable": false,
    "editable": false,
    "nbgrader": {
     "cell_type": "code",
     "checksum": "603b77e3ad0a8a2ee875072510205650",
     "grade": false,
     "grade_id": "cell-dd6389b73e1bc2bf",
     "locked": true,
     "schema_version": 3,
     "solution": false,
     "task": false
    }
   },
   "outputs": [],
   "source": [
    "admissions['admittime'] = pd.to_datetime(admissions['admittime']).dt.date\n",
    "admissions['dischtime'] = pd.to_datetime(admissions['dischtime']).dt.date"
   ]
  },
  {
   "cell_type": "markdown",
   "metadata": {
    "deletable": false,
    "editable": false,
    "nbgrader": {
     "cell_type": "markdown",
     "checksum": "dcbee77d4b46c40f0d0a6a84a109c74d",
     "grade": false,
     "grade_id": "cell-0989fdaf36a611eb",
     "locked": true,
     "schema_version": 3,
     "solution": false,
     "task": false
    }
   },
   "source": [
    "**Exclude other columns**"
   ]
  },
  {
   "cell_type": "code",
   "execution_count": null,
   "metadata": {
    "ExecuteTime": {
     "end_time": "2021-11-17T03:54:37.887566Z",
     "start_time": "2021-11-17T03:54:37.879134Z"
    },
    "deletable": false,
    "editable": false,
    "nbgrader": {
     "cell_type": "code",
     "checksum": "1bfdd7f197fd4db1eab7023929952686",
     "grade": false,
     "grade_id": "cell-12c33c41deb752ec",
     "locked": true,
     "schema_version": 3,
     "solution": false,
     "task": false
    }
   },
   "outputs": [],
   "source": [
    "admissions = admissions[['subject_id', 'hadm_id', 'admittime', 'dischtime']]\n",
    "print(admissions.shape)\n",
    "admissions.head()"
   ]
  },
  {
   "cell_type": "markdown",
   "metadata": {
    "deletable": false,
    "editable": false,
    "nbgrader": {
     "cell_type": "markdown",
     "checksum": "ed9119ce0c63be45fb3733e7210b0e5d",
     "grade": false,
     "grade_id": "cell-9df4cc8812967a5d",
     "locked": true,
     "schema_version": 3,
     "solution": false,
     "task": false
    }
   },
   "source": [
    "#### Merge patient and admission info\n",
    "\n",
    "We will merge the patient and admission table on subject_id."
   ]
  },
  {
   "cell_type": "code",
   "execution_count": null,
   "metadata": {
    "ExecuteTime": {
     "end_time": "2021-11-17T03:54:37.894578Z",
     "start_time": "2021-11-17T03:54:37.888932Z"
    },
    "deletable": false,
    "editable": false,
    "nbgrader": {
     "cell_type": "code",
     "checksum": "59a5ee541e11d1f87ca35de07c19245a",
     "grade": false,
     "grade_id": "cell-64011693b84085cb",
     "locked": true,
     "schema_version": 3,
     "solution": false,
     "task": false
    }
   },
   "outputs": [],
   "source": [
    "patients_admissions = pd.merge(admissions, patients, how='inner', on='subject_id')"
   ]
  },
  {
   "cell_type": "code",
   "execution_count": null,
   "metadata": {
    "ExecuteTime": {
     "end_time": "2021-11-17T03:54:37.905462Z",
     "start_time": "2021-11-17T03:54:37.896568Z"
    },
    "deletable": false,
    "editable": false,
    "nbgrader": {
     "cell_type": "code",
     "checksum": "cd0342723b8993c4761989540ea437c9",
     "grade": false,
     "grade_id": "cell-257042eff45a5707",
     "locked": true,
     "schema_version": 3,
     "solution": false,
     "task": false
    }
   },
   "outputs": [],
   "source": [
    "print(patients_admissions.shape)\n",
    "patients_admissions.head()"
   ]
  },
  {
   "cell_type": "markdown",
   "metadata": {
    "deletable": false,
    "editable": false,
    "nbgrader": {
     "cell_type": "markdown",
     "checksum": "9817952574e19935554bae2159d15883",
     "grade": false,
     "grade_id": "cell-ee8b7987c27c576f",
     "locked": true,
     "schema_version": 3,
     "solution": false,
     "task": false
    }
   },
   "source": [
    "**Exclude patients whose age < 18**"
   ]
  },
  {
   "cell_type": "code",
   "execution_count": null,
   "metadata": {
    "ExecuteTime": {
     "end_time": "2021-11-17T03:54:37.914378Z",
     "start_time": "2021-11-17T03:54:37.907258Z"
    },
    "deletable": false,
    "editable": false,
    "nbgrader": {
     "cell_type": "code",
     "checksum": "55e4275fcecbc548d4054cfe5ef96acf",
     "grade": false,
     "grade_id": "cell-e49660d3c84a2aac",
     "locked": true,
     "schema_version": 3,
     "solution": false,
     "task": false
    }
   },
   "outputs": [],
   "source": [
    "# calculate admission age\n",
    "patients_admissions['age'] = patients_admissions.apply(lambda x: (x['admittime'] - x['dob']).days // 365.25, axis=1)\n",
    "# for patient with age > 89, set it to 89\n",
    "patients_admissions['age'] = patients_admissions['age'].apply(lambda x: 89 if x > 89 else x)"
   ]
  },
  {
   "cell_type": "code",
   "execution_count": null,
   "metadata": {
    "ExecuteTime": {
     "end_time": "2021-11-17T03:54:37.921607Z",
     "start_time": "2021-11-17T03:54:37.915904Z"
    },
    "deletable": false,
    "editable": false,
    "nbgrader": {
     "cell_type": "code",
     "checksum": "650f1058100a7fbbabccf4f22be8fca9",
     "grade": false,
     "grade_id": "cell-61fdd22d53d0b5d1",
     "locked": true,
     "schema_version": 3,
     "solution": false,
     "task": false
    }
   },
   "outputs": [],
   "source": [
    "print(\"# of admissions with age < 18:\", len(patients_admissions[patients_admissions['age'] < 18].groupby('hadm_id')))\n",
    "print(\"# of admissions with age >= 89:\", len(patients_admissions[patients_admissions['age'] >= 89].groupby('hadm_id')))"
   ]
  },
  {
   "cell_type": "code",
   "execution_count": null,
   "metadata": {
    "ExecuteTime": {
     "end_time": "2021-11-17T03:54:37.926466Z",
     "start_time": "2021-11-17T03:54:37.923187Z"
    },
    "deletable": false,
    "editable": false,
    "nbgrader": {
     "cell_type": "code",
     "checksum": "43c0daf8e619ee6a7d73223fdc4ee1a6",
     "grade": false,
     "grade_id": "cell-d54f03eb36a96626",
     "locked": true,
     "schema_version": 3,
     "solution": false,
     "task": false
    }
   },
   "outputs": [],
   "source": [
    "patients_admissions = patients_admissions[patients_admissions['age'] >= 18].reset_index(drop=True)"
   ]
  },
  {
   "cell_type": "code",
   "execution_count": null,
   "metadata": {
    "ExecuteTime": {
     "end_time": "2021-11-17T03:54:37.931141Z",
     "start_time": "2021-11-17T03:54:37.928060Z"
    },
    "deletable": false,
    "editable": false,
    "nbgrader": {
     "cell_type": "code",
     "checksum": "28f786c8aaf7d272832d04c2330d9e8a",
     "grade": false,
     "grade_id": "cell-8eb7d3e56cc78653",
     "locked": true,
     "schema_version": 3,
     "solution": false,
     "task": false
    }
   },
   "outputs": [],
   "source": [
    "# drop dob column\n",
    "patients_admissions = patients_admissions.drop(columns='dob')"
   ]
  },
  {
   "cell_type": "code",
   "execution_count": null,
   "metadata": {
    "ExecuteTime": {
     "end_time": "2021-11-17T03:54:37.941317Z",
     "start_time": "2021-11-17T03:54:37.932605Z"
    },
    "deletable": false,
    "editable": false,
    "nbgrader": {
     "cell_type": "code",
     "checksum": "4f926417beb0a684801e42630a706e83",
     "grade": false,
     "grade_id": "cell-a94c30635a37cc6d",
     "locked": true,
     "schema_version": 3,
     "solution": false,
     "task": false
    }
   },
   "outputs": [],
   "source": [
    "print(patients_admissions.shape)\n",
    "patients_admissions.head()"
   ]
  },
  {
   "cell_type": "markdown",
   "metadata": {
    "deletable": false,
    "editable": false,
    "nbgrader": {
     "cell_type": "markdown",
     "checksum": "880adf0f1f564dc55f412e153c39347e",
     "grade": false,
     "grade_id": "cell-0f5d90a026087fb9",
     "locked": true,
     "schema_version": 3,
     "solution": false,
     "task": false
    }
   },
   "source": [
    "#### Diagnosis code\n",
    "\n",
    "This table contains ICD diagnoses for patients, most notably ICD-9 diagnoses."
   ]
  },
  {
   "cell_type": "code",
   "execution_count": null,
   "metadata": {
    "ExecuteTime": {
     "end_time": "2021-11-17T03:54:37.945329Z",
     "start_time": "2021-11-17T03:54:37.942975Z"
    },
    "deletable": false,
    "editable": false,
    "nbgrader": {
     "cell_type": "code",
     "checksum": "43d8673dc8baed9b981a4cf358417ab9",
     "grade": false,
     "grade_id": "cell-7741cea8dc72d4b8",
     "locked": true,
     "schema_version": 3,
     "solution": false,
     "task": false
    }
   },
   "outputs": [],
   "source": [
    "# set of valid admission ids\n",
    "valid_adm_ids = set(patients_admissions.hadm_id)"
   ]
  },
  {
   "cell_type": "code",
   "execution_count": null,
   "metadata": {
    "ExecuteTime": {
     "end_time": "2021-11-17T03:54:37.954519Z",
     "start_time": "2021-11-17T03:54:37.951748Z"
    },
    "deletable": false,
    "editable": false,
    "nbgrader": {
     "cell_type": "code",
     "checksum": "09c2809e52f734da50c0888160164c3e",
     "grade": false,
     "grade_id": "cell-4abf7e7e3b056cd7",
     "locked": true,
     "schema_version": 3,
     "solution": false,
     "task": false
    }
   },
   "outputs": [],
   "source": [
    "def convert_to_3digit_icd9(dxStr):\n",
    "    \"\"\" convert icd9 to 3-digit version \"\"\"\n",
    "    if dxStr.startswith('E'):\n",
    "        if len(dxStr) > 4: \n",
    "            return dxStr[:4]\n",
    "        else: \n",
    "            return dxStr\n",
    "    else:\n",
    "        if len(dxStr) > 3:\n",
    "            return dxStr[:3]\n",
    "        else: \n",
    "            return dxStr"
   ]
  },
  {
   "cell_type": "code",
   "execution_count": null,
   "metadata": {
    "ExecuteTime": {
     "end_time": "2021-11-17T03:54:37.965172Z",
     "start_time": "2021-11-17T03:54:37.955814Z"
    },
    "deletable": false,
    "editable": false,
    "nbgrader": {
     "cell_type": "code",
     "checksum": "dd007b2c7a4025aac36b159407e124ee",
     "grade": false,
     "grade_id": "cell-19c54007d2ddfc41",
     "locked": true,
     "schema_version": 3,
     "solution": false,
     "task": false
    }
   },
   "outputs": [],
   "source": [
    "diagnosis_icd = pd.read_csv(os.path.join(f'{DATA_PATH}/DIAGNOSES_ICD.csv'))\n",
    "print(diagnosis_icd.shape)\n",
    "diagnosis_icd.head()"
   ]
  },
  {
   "cell_type": "code",
   "execution_count": null,
   "metadata": {
    "ExecuteTime": {
     "end_time": "2021-11-17T03:54:37.968944Z",
     "start_time": "2021-11-17T03:54:37.966479Z"
    },
    "deletable": false,
    "editable": false,
    "nbgrader": {
     "cell_type": "code",
     "checksum": "c9bab9076a7d12f57c00bdee7c19f030",
     "grade": false,
     "grade_id": "cell-8a02f4e3eac6fd51",
     "locked": true,
     "schema_version": 3,
     "solution": false,
     "task": false
    }
   },
   "outputs": [],
   "source": [
    "print(\"Original shape:\", diagnosis_icd.shape)"
   ]
  },
  {
   "cell_type": "markdown",
   "metadata": {
    "deletable": false,
    "editable": false,
    "nbgrader": {
     "cell_type": "markdown",
     "checksum": "8ef1b1a7ebcd2a7282f8aaa648159868",
     "grade": false,
     "grade_id": "cell-5a8ae2fb8d82ab7e",
     "locked": true,
     "schema_version": 3,
     "solution": false,
     "task": false
    }
   },
   "source": [
    "**Drop invalid admissions** \n",
    "\n",
    "Drop admissions not in valid_adm_ids."
   ]
  },
  {
   "cell_type": "code",
   "execution_count": null,
   "metadata": {
    "ExecuteTime": {
     "end_time": "2021-11-17T03:54:37.975058Z",
     "start_time": "2021-11-17T03:54:37.970333Z"
    },
    "deletable": false,
    "editable": false,
    "nbgrader": {
     "cell_type": "code",
     "checksum": "08f1c712ce437827bcb1e492e9d0a382",
     "grade": false,
     "grade_id": "cell-f81f235efa90eca0",
     "locked": true,
     "schema_version": 3,
     "solution": false,
     "task": false
    }
   },
   "outputs": [],
   "source": [
    "print(\"# of rows with invalid admissions:\", np.count_nonzero(diagnosis_icd['hadm_id'].isin(valid_adm_ids) == False))\n",
    "diagnosis_icd = diagnosis_icd[diagnosis_icd['hadm_id'].isin(valid_adm_ids)].reset_index(drop=True)\n",
    "print(\"Rows with invalid admissions are dropped! Shape:\", diagnosis_icd.shape)"
   ]
  },
  {
   "cell_type": "markdown",
   "metadata": {
    "deletable": false,
    "editable": false,
    "nbgrader": {
     "cell_type": "markdown",
     "checksum": "25497efbe3014058d28d77cfc6a0826d",
     "grade": false,
     "grade_id": "cell-0faf1fd58219c7e9",
     "locked": true,
     "schema_version": 3,
     "solution": false,
     "task": false
    }
   },
   "source": [
    "**Convert to ICD9 3-digit**\n",
    "\n",
    "Since we only have very limited data, converting ICD9 to 3-digit version will make the learning process easier (e.g., the representation will be much smaller)."
   ]
  },
  {
   "cell_type": "code",
   "execution_count": null,
   "metadata": {
    "ExecuteTime": {
     "end_time": "2021-11-17T03:54:37.984223Z",
     "start_time": "2021-11-17T03:54:37.976346Z"
    },
    "deletable": false,
    "editable": false,
    "nbgrader": {
     "cell_type": "code",
     "checksum": "28eaaa9a02ae3160a798378c4cb21f76",
     "grade": false,
     "grade_id": "cell-a080fd0f87e22b8a",
     "locked": true,
     "schema_version": 3,
     "solution": false,
     "task": false
    }
   },
   "outputs": [],
   "source": [
    "diagnosis_icd['icd9_3digit'] = diagnosis_icd['icd9_code'].apply(lambda x: convert_to_3digit_icd9(x))\n",
    "diagnosis_icd.head()"
   ]
  },
  {
   "cell_type": "markdown",
   "metadata": {
    "deletable": false,
    "editable": false,
    "nbgrader": {
     "cell_type": "markdown",
     "checksum": "21ea3e2463f6722836972851c364680a",
     "grade": false,
     "grade_id": "cell-53a15b21d8558079",
     "locked": true,
     "schema_version": 3,
     "solution": false,
     "task": false
    }
   },
   "source": [
    "**Group by admission**\n",
    "\n",
    "Group ICD9 codes by admission."
   ]
  },
  {
   "cell_type": "code",
   "execution_count": null,
   "metadata": {
    "ExecuteTime": {
     "end_time": "2021-11-17T03:54:37.996619Z",
     "start_time": "2021-11-17T03:54:37.985595Z"
    },
    "deletable": false,
    "editable": false,
    "nbgrader": {
     "cell_type": "code",
     "checksum": "e2c14da7a87c96a402d419a56d5dee19",
     "grade": false,
     "grade_id": "cell-6b13a0a2a7a9c129",
     "locked": true,
     "schema_version": 3,
     "solution": false,
     "task": false
    }
   },
   "outputs": [],
   "source": [
    "diagnosis_icd = diagnosis_icd.groupby('hadm_id')['icd9_3digit'].unique().reset_index()"
   ]
  },
  {
   "cell_type": "code",
   "execution_count": null,
   "metadata": {
    "ExecuteTime": {
     "end_time": "2021-11-17T03:54:38.004682Z",
     "start_time": "2021-11-17T03:54:37.997765Z"
    },
    "deletable": false,
    "editable": false,
    "nbgrader": {
     "cell_type": "code",
     "checksum": "616750d2475d0d04355fbe9f80b45e15",
     "grade": false,
     "grade_id": "cell-1e74ab873f1a88a1",
     "locked": true,
     "schema_version": 3,
     "solution": false,
     "task": false
    }
   },
   "outputs": [],
   "source": [
    "print(diagnosis_icd.shape)\n",
    "diagnosis_icd.head()"
   ]
  },
  {
   "cell_type": "markdown",
   "metadata": {
    "deletable": false,
    "editable": false,
    "nbgrader": {
     "cell_type": "markdown",
     "checksum": "fec202c830aff8e528fe705ce9b465bf",
     "grade": false,
     "grade_id": "cell-f26df6ee2b79810b",
     "locked": true,
     "schema_version": 3,
     "solution": false,
     "task": false
    }
   },
   "source": [
    "#### Merge patient, admission, and diagnosis code info\n",
    "\n",
    "Merge all three tables together on hadm_id."
   ]
  },
  {
   "cell_type": "code",
   "execution_count": null,
   "metadata": {
    "ExecuteTime": {
     "end_time": "2021-11-17T03:54:38.022112Z",
     "start_time": "2021-11-17T03:54:38.006310Z"
    },
    "deletable": false,
    "editable": false,
    "nbgrader": {
     "cell_type": "code",
     "checksum": "929c162864d86a6c5546114f005b9f27",
     "grade": false,
     "grade_id": "cell-d90b9985841fc299",
     "locked": true,
     "schema_version": 3,
     "solution": false,
     "task": false
    }
   },
   "outputs": [],
   "source": [
    "df = pd.merge(patients_admissions, diagnosis_icd, how='inner', on='hadm_id')\n",
    "df"
   ]
  },
  {
   "cell_type": "markdown",
   "metadata": {
    "deletable": false,
    "editable": false,
    "nbgrader": {
     "cell_type": "markdown",
     "checksum": "51a942afcaa36de4ccef27a157f136ff",
     "grade": false,
     "grade_id": "cell-c1502d4f42300d6b",
     "locked": true,
     "schema_version": 3,
     "solution": false,
     "task": false
    }
   },
   "source": [
    "**Sort admissions w.r.t. admission time**"
   ]
  },
  {
   "cell_type": "code",
   "execution_count": null,
   "metadata": {
    "ExecuteTime": {
     "end_time": "2021-11-17T03:54:38.036246Z",
     "start_time": "2021-11-17T03:54:38.023853Z"
    },
    "deletable": false,
    "editable": false,
    "nbgrader": {
     "cell_type": "code",
     "checksum": "60e3b258e9eda054ca0b61c3b632a093",
     "grade": false,
     "grade_id": "cell-95ea7eceb45ad469",
     "locked": true,
     "schema_version": 3,
     "solution": false,
     "task": false
    }
   },
   "outputs": [],
   "source": [
    "df = df.sort_values(['subject_id', 'admittime'], ascending=True).reset_index(drop=True)\n",
    "df.head()"
   ]
  },
  {
   "cell_type": "markdown",
   "metadata": {
    "deletable": false,
    "editable": false,
    "nbgrader": {
     "cell_type": "markdown",
     "checksum": "cc40d6205cb70f4a48002ca3f371959e",
     "grade": false,
     "grade_id": "cell-57da746e1c0cc087",
     "locked": true,
     "schema_version": 3,
     "solution": false,
     "task": false
    }
   },
   "source": [
    "**Exclude other columns**"
   ]
  },
  {
   "cell_type": "code",
   "execution_count": null,
   "metadata": {
    "ExecuteTime": {
     "end_time": "2021-11-17T03:54:38.053380Z",
     "start_time": "2021-11-17T03:54:38.037690Z"
    },
    "deletable": false,
    "editable": false,
    "nbgrader": {
     "cell_type": "code",
     "checksum": "07a10b73358690f0a4f619fee1f8f331",
     "grade": false,
     "grade_id": "cell-a8e255cc57abffda",
     "locked": true,
     "schema_version": 3,
     "solution": false,
     "task": false
    }
   },
   "outputs": [],
   "source": [
    "df = df[['subject_id', 'gender', 'hadm_id', 'age', 'mortality', 'icd9_3digit']]\n",
    "df = df.rename(columns={'icd9_3digit': 'icd9'})\n",
    "df"
   ]
  },
  {
   "cell_type": "markdown",
   "metadata": {
    "deletable": false,
    "editable": false,
    "nbgrader": {
     "cell_type": "markdown",
     "checksum": "48ea5c37873d3936b623e074b80b9fab",
     "grade": false,
     "grade_id": "cell-dff3edb2eebb505e",
     "locked": true,
     "schema_version": 3,
     "solution": false,
     "task": false
    }
   },
   "source": [
    "#### Statistics\n",
    "\n",
    "Calculate some statistics."
   ]
  },
  {
   "cell_type": "code",
   "execution_count": null,
   "metadata": {
    "ExecuteTime": {
     "end_time": "2021-11-17T03:54:38.056970Z",
     "start_time": "2021-11-17T03:54:38.054702Z"
    },
    "deletable": false,
    "editable": false,
    "nbgrader": {
     "cell_type": "code",
     "checksum": "386ff3c6e46a297e193c6f113acc8be4",
     "grade": false,
     "grade_id": "cell-88002262ef16d7ed",
     "locked": true,
     "schema_version": 3,
     "solution": false,
     "task": false
    }
   },
   "outputs": [],
   "source": [
    "def mean_max_min_std(series):\n",
    "    print(f\"mean: {np.mean(series):.1f}, min: {np.min(series):.1f}, max: {np.max(series):.1f}, std: {np.std(series):.1f}\")"
   ]
  },
  {
   "cell_type": "code",
   "execution_count": null,
   "metadata": {
    "ExecuteTime": {
     "end_time": "2021-11-17T03:54:38.080242Z",
     "start_time": "2021-11-17T03:54:38.058399Z"
    },
    "deletable": false,
    "editable": false,
    "nbgrader": {
     "cell_type": "code",
     "checksum": "c803abe66658e8b49746dabb5b6bbd46",
     "grade": false,
     "grade_id": "cell-ce356d88ed7b1ad7",
     "locked": true,
     "schema_version": 3,
     "solution": false,
     "task": false
    }
   },
   "outputs": [],
   "source": [
    "print(\"Total # of patients:\", len(df.groupby('subject_id')), '\\n')\n",
    "\n",
    "print(\"Total # of admissions:\", len(df.groupby('hadm_id')), '\\n')\n",
    "\n",
    "print(df.groupby(['subject_id', 'gender']).size().groupby('gender').size(), '\\n')\n",
    "\n",
    "print(\"age:\")\n",
    "mean_max_min_std(df.age)\n",
    "print()\n",
    "\n",
    "print(\"# of diagnosis codes:\")\n",
    "mean_max_min_std(df['icd9'].dropna().apply(lambda x: len(x)))\n",
    "print()\n",
    "    \n",
    "print(\"# of admissions:\")\n",
    "mean_max_min_std(df.groupby('subject_id')['hadm_id'].apply(lambda x: len(x.unique())))\n",
    "print()\n",
    "    \n",
    "print(df.groupby(['subject_id', 'mortality']).size().groupby('mortality').size(), '\\n')"
   ]
  },
  {
   "cell_type": "markdown",
   "metadata": {
    "deletable": false,
    "editable": false,
    "nbgrader": {
     "cell_type": "markdown",
     "checksum": "1a40c9f67c708925fc578825380c7d58",
     "grade": false,
     "grade_id": "cell-78f73c8858f130d7",
     "locked": true,
     "schema_version": 3,
     "solution": false,
     "task": false
    }
   },
   "source": [
    "#### Convert diagnosis code to index\n",
    "\n",
    "To make the code machine-recongnizable, we have to convert them from string to index. For example, code '008' will be converted to index 0. \n",
    "\n",
    "In this way, we can eventaully represent the diagnosis codes within an admission by one-hot vector, which can directly be fed into the model.\n",
    "\n",
    "Here is detailed introduction to [integer and one-hot encodings](https://machinelearningmastery.com/why-one-hot-encode-data-in-machine-learning/)."
   ]
  },
  {
   "cell_type": "code",
   "execution_count": null,
   "metadata": {
    "ExecuteTime": {
     "end_time": "2021-11-17T03:54:38.087261Z",
     "start_time": "2021-11-17T03:54:38.082303Z"
    },
    "deletable": false,
    "editable": false,
    "nbgrader": {
     "cell_type": "code",
     "checksum": "ba8691cf0624de2bc8cb2126376c2c17",
     "grade": false,
     "grade_id": "cell-4a9f2940f759198c",
     "locked": true,
     "schema_version": 3,
     "solution": false,
     "task": false
    }
   },
   "outputs": [],
   "source": [
    "all_codes = list(set([j for i in df.icd9.to_list() for j in i]))\n",
    "all_codes.sort()\n",
    "all_codes[:10]"
   ]
  },
  {
   "cell_type": "code",
   "execution_count": null,
   "metadata": {
    "ExecuteTime": {
     "end_time": "2021-11-17T03:54:38.091376Z",
     "start_time": "2021-11-17T03:54:38.088724Z"
    },
    "deletable": false,
    "editable": false,
    "nbgrader": {
     "cell_type": "code",
     "checksum": "3fffbbeadf9b2034d1e6e312b9905cd2",
     "grade": false,
     "grade_id": "cell-80fad88fa7b9f0a0",
     "locked": true,
     "schema_version": 3,
     "solution": false,
     "task": false
    }
   },
   "outputs": [],
   "source": [
    "TOTAL_NUM_CODES = len(all_codes)\n",
    "TOTAL_NUM_CODES"
   ]
  },
  {
   "cell_type": "code",
   "execution_count": null,
   "metadata": {
    "ExecuteTime": {
     "end_time": "2021-11-17T03:54:38.101915Z",
     "start_time": "2021-11-17T03:54:38.092603Z"
    },
    "deletable": false,
    "editable": false,
    "nbgrader": {
     "cell_type": "code",
     "checksum": "8c2f4ca439eb2863de13a938f709743d",
     "grade": false,
     "grade_id": "cell-a8e2eb4981ff79a7",
     "locked": true,
     "schema_version": 3,
     "solution": false,
     "task": false
    }
   },
   "outputs": [],
   "source": [
    "code2idx = {}\n",
    "for idx, code in enumerate(all_codes):\n",
    "    code2idx[code] = idx\n",
    "code2idx"
   ]
  },
  {
   "cell_type": "code",
   "execution_count": null,
   "metadata": {
    "ExecuteTime": {
     "end_time": "2021-11-17T03:54:38.106457Z",
     "start_time": "2021-11-17T03:54:38.103218Z"
    },
    "deletable": false,
    "editable": false,
    "nbgrader": {
     "cell_type": "code",
     "checksum": "c162c0dd8027ea208e453defc1c92b71",
     "grade": false,
     "grade_id": "cell-d8c755a0fb31a9d9",
     "locked": true,
     "schema_version": 3,
     "solution": false,
     "task": false
    }
   },
   "outputs": [],
   "source": [
    "df['icd9'] = df.icd9.apply(lambda x: [code2idx[i] for i in x])"
   ]
  },
  {
   "cell_type": "markdown",
   "metadata": {
    "deletable": false,
    "editable": false,
    "nbgrader": {
     "cell_type": "markdown",
     "checksum": "85f5cd61122901529e0699efd2844d02",
     "grade": false,
     "grade_id": "cell-aac3f53cbc62c2c3",
     "locked": true,
     "schema_version": 3,
     "solution": false,
     "task": false
    }
   },
   "source": [
    "**Convert diagnoiss index to str and join by ';'**"
   ]
  },
  {
   "cell_type": "code",
   "execution_count": null,
   "metadata": {
    "ExecuteTime": {
     "end_time": "2021-11-17T03:54:38.111212Z",
     "start_time": "2021-11-17T03:54:38.107918Z"
    },
    "deletable": false,
    "editable": false,
    "nbgrader": {
     "cell_type": "code",
     "checksum": "bee779de41f96e3f1bbb347b7c0114f4",
     "grade": false,
     "grade_id": "cell-2995ad1b37e953da",
     "locked": true,
     "schema_version": 3,
     "solution": false,
     "task": false
    }
   },
   "outputs": [],
   "source": [
    "df['icd9'] = df['icd9'].apply(lambda x: ';'.join([str(i) for i in x]))"
   ]
  },
  {
   "cell_type": "code",
   "execution_count": null,
   "metadata": {
    "ExecuteTime": {
     "end_time": "2021-11-17T03:54:38.120345Z",
     "start_time": "2021-11-17T03:54:38.112535Z"
    },
    "deletable": false,
    "editable": false,
    "nbgrader": {
     "cell_type": "code",
     "checksum": "7bd4fccf267692794046232a72fd49e3",
     "grade": false,
     "grade_id": "cell-0f34729fd329f304",
     "locked": true,
     "schema_version": 3,
     "solution": false,
     "task": false
    }
   },
   "outputs": [],
   "source": [
    "df.head()"
   ]
  },
  {
   "cell_type": "markdown",
   "metadata": {
    "deletable": false,
    "editable": false,
    "nbgrader": {
     "cell_type": "markdown",
     "checksum": "1c3574bf0204883560bcfb19ade52131",
     "grade": false,
     "grade_id": "cell-59f135adc3c25e3a",
     "locked": true,
     "schema_version": 3,
     "solution": false,
     "task": false
    }
   },
   "source": [
    "#### Train/Test split\n",
    "\n",
    "We will split the data into 80\\% training and 20\\% testing sets. Normally, we should do train/validation/test splits. However, since the data is very limited, we will just do train/test splits for demonstration purpose."
   ]
  },
  {
   "cell_type": "code",
   "execution_count": null,
   "metadata": {
    "ExecuteTime": {
     "end_time": "2021-11-17T03:54:38.124994Z",
     "start_time": "2021-11-17T03:54:38.121813Z"
    },
    "deletable": false,
    "editable": false,
    "nbgrader": {
     "cell_type": "code",
     "checksum": "8248319d1f244bc804e88dd119fc56e2",
     "grade": false,
     "grade_id": "cell-13711ffd6f6dac29",
     "locked": true,
     "schema_version": 3,
     "solution": false,
     "task": false
    }
   },
   "outputs": [],
   "source": [
    "all_patients = list(df.subject_id.unique().tolist())\n",
    "random.shuffle(all_patients)\n",
    "train_ids = all_patients[:int(len(all_patients) * 0.8)]\n",
    "test_ids = all_patients[int(len(all_patients) * 0.8):]"
   ]
  },
  {
   "cell_type": "code",
   "execution_count": null,
   "metadata": {
    "ExecuteTime": {
     "end_time": "2021-11-17T03:54:38.129418Z",
     "start_time": "2021-11-17T03:54:38.126419Z"
    },
    "deletable": false,
    "editable": false,
    "nbgrader": {
     "cell_type": "code",
     "checksum": "dd3e750cb632f08851857af4fe6c3246",
     "grade": false,
     "grade_id": "cell-a7c6d33296549ef1",
     "locked": true,
     "schema_version": 3,
     "solution": false,
     "task": false
    }
   },
   "outputs": [],
   "source": [
    "print(\"# of train:\", len(train_ids))\n",
    "print(\"# of test:\", len(test_ids))"
   ]
  },
  {
   "cell_type": "code",
   "execution_count": null,
   "metadata": {
    "ExecuteTime": {
     "end_time": "2021-11-17T03:54:38.134815Z",
     "start_time": "2021-11-17T03:54:38.131046Z"
    },
    "deletable": false,
    "editable": false,
    "nbgrader": {
     "cell_type": "code",
     "checksum": "87b462913f4e284a377c03f99203cce9",
     "grade": false,
     "grade_id": "cell-0214ba3d390009bb",
     "locked": true,
     "schema_version": 3,
     "solution": false,
     "task": false
    }
   },
   "outputs": [],
   "source": [
    "df_train = df[df['subject_id'].isin(train_ids)].reset_index(drop=True)\n",
    "df_test = df[df['subject_id'].isin(test_ids)].reset_index(drop=True)"
   ]
  },
  {
   "cell_type": "markdown",
   "metadata": {
    "deletable": false,
    "editable": false,
    "nbgrader": {
     "cell_type": "markdown",
     "checksum": "7fa7b557c3815855a24305d38bd0f23e",
     "grade": false,
     "grade_id": "cell-8b11dd32d5c94d7f",
     "locked": true,
     "schema_version": 3,
     "solution": false,
     "task": false
    }
   },
   "source": [
    "**Save**"
   ]
  },
  {
   "cell_type": "code",
   "execution_count": null,
   "metadata": {
    "ExecuteTime": {
     "end_time": "2021-11-17T03:54:38.144106Z",
     "start_time": "2021-11-17T03:54:38.136487Z"
    },
    "deletable": false,
    "editable": false,
    "nbgrader": {
     "cell_type": "code",
     "checksum": "655d6269903418b0757c185e43b31147",
     "grade": false,
     "grade_id": "cell-ff3ac9e92f08d6c4",
     "locked": true,
     "schema_version": 3,
     "solution": false,
     "task": false
    }
   },
   "outputs": [],
   "source": [
    "df_train.to_csv(os.path.join(f'{DELIVERABLE_PATH}/train.csv'), index=False)\n",
    "df_test.to_csv(os.path.join(f'{DELIVERABLE_PATH}/test.csv'), index=False)"
   ]
  },
  {
   "cell_type": "markdown",
   "metadata": {
    "deletable": false,
    "editable": false,
    "nbgrader": {
     "cell_type": "markdown",
     "checksum": "e070eb77631065db645eda74df13c8b3",
     "grade": false,
     "grade_id": "cell-93c15dec5e3b0a50",
     "locked": true,
     "schema_version": 3,
     "solution": false,
     "task": false
    }
   },
   "source": [
    "### DNN model\n",
    "\n",
    "In the previous lab, we implement the linear regression model, which only has one layer. Thanks to the increasing amount of data and growing computing power, deep learning networks tend to be massive with dozens or hundreds of layers, that is where the term \"deep\" comes from. \n",
    "\n",
    "You can build one of these deep networks using only weight matrices as we did in the previous problem, but in general it is very cumbersome and difficult to implement. PyTorch has a nice module `nn` that provides a nice way to efficiently build large neural networks.\n",
    "\n",
    "Let us get started!"
   ]
  },
  {
   "cell_type": "code",
   "execution_count": null,
   "metadata": {
    "ExecuteTime": {
     "end_time": "2021-11-17T03:54:38.149657Z",
     "start_time": "2021-11-17T03:54:38.145840Z"
    },
    "deletable": false,
    "editable": false,
    "nbgrader": {
     "cell_type": "code",
     "checksum": "3301b960af77899f2c2807826bcf58d5",
     "grade": false,
     "grade_id": "cell-6da0112258e849c1",
     "locked": true,
     "schema_version": 3,
     "solution": false,
     "task": false
    }
   },
   "outputs": [],
   "source": [
    "# two helper functions\n",
    "\n",
    "\n",
    "def read_csv(filename):\n",
    "    \"\"\" reading csv from filename \"\"\"\n",
    "    data = []\n",
    "    with open(filename, \"r\") as file:\n",
    "        csv_reader = csv.DictReader(file, delimiter=',')\n",
    "        for row in csv_reader:\n",
    "            data.append(row)\n",
    "    header = list(data[0].keys())\n",
    "    return header, data\n",
    "\n",
    "\n",
    "def to_one_hot(label, num_class):\n",
    "    \"\"\" convert to one hot label \"\"\"\n",
    "    one_hot_label = [0] * num_class\n",
    "    for i in label:\n",
    "        one_hot_label[i] = 1\n",
    "    return one_hot_label"
   ]
  },
  {
   "cell_type": "markdown",
   "metadata": {
    "deletable": false,
    "editable": false,
    "nbgrader": {
     "cell_type": "markdown",
     "checksum": "2e387909212267d8052c390b36602e51",
     "grade": false,
     "grade_id": "cell-74a2905a08d44887",
     "locked": true,
     "schema_version": 3,
     "solution": false,
     "task": false
    }
   },
   "source": [
    "#### Custom Dataset\n",
    "\n",
    "First, let us implement a custom dataset using PyTorch class `Dataset`, which will characterize the key features of the dataset we want to generate. This is similar to the `data_iter()` function in the previoius lab.\n",
    "\n",
    "We will use the diagnosis codes as input and mortality as output.\n",
    "\n",
    "Note that though one patient can have multiple admissions, for this lab, we will only use the diagnosis codes from the last admission since DNN cannot capture the temporal information. \n",
    "\n",
    "In the following labs, we will try CNN and RNN which can leverage the entire admission sequence and model the temporal dependency."
   ]
  },
  {
   "cell_type": "code",
   "execution_count": null,
   "metadata": {
    "ExecuteTime": {
     "end_time": "2021-11-17T03:54:38.159366Z",
     "start_time": "2021-11-17T03:54:38.151967Z"
    },
    "deletable": false,
    "editable": false,
    "nbgrader": {
     "cell_type": "code",
     "checksum": "156cdb32c8f2e6a35777630019690c90",
     "grade": false,
     "grade_id": "cell-88137e81586755b5",
     "locked": true,
     "schema_version": 3,
     "solution": false,
     "task": false
    }
   },
   "outputs": [],
   "source": [
    "from torch.utils.data import Dataset\n",
    "\n",
    "\n",
    "class CustomDataset(Dataset):\n",
    "    \n",
    "    def __init__(self, split):\n",
    "        # read the csv\n",
    "        self._df = pd.read_csv(f'{DELIVERABLE_PATH}/{split}.csv')\n",
    "        # split diagnosis code index by ';' and convert it to integer\n",
    "        self._df.icd9 = self._df.icd9.apply(lambda x: [int(i) for i in x.split(';')])\n",
    "        # build data dict\n",
    "        self._build_data_dict()\n",
    "        # a list of subject ids\n",
    "        self._subj_ids = list(self._data.keys())\n",
    "        # sort the subject ids to maintain a fixed order\n",
    "        self._subj_ids.sort()\n",
    "    \n",
    "    def _build_data_dict(self):\n",
    "        \"\"\" \n",
    "        build SUBJECT_ID to ADMISSION dict\n",
    "            - subject_id\n",
    "                - icd9: a list of ICD9 code index\n",
    "                - mortality: 0/1 morality label\n",
    "        \"\"\"\n",
    "        dict_data = {}\n",
    "        df = self._df.groupby('subject_id').agg({'mortality': lambda x: x.iloc[0], 'icd9': list}).reset_index()\n",
    "        for idx, row in df.iterrows():\n",
    "            subj_id = row.subject_id\n",
    "            dict_data[subj_id] = {}\n",
    "            dict_data[subj_id]['icd9'] = row.icd9\n",
    "            dict_data[subj_id]['mortality'] = row.mortality\n",
    "        self._data = dict_data\n",
    "    \n",
    "    def __len__(self):\n",
    "        \"\"\" return the number of samples (i.e. patients). \"\"\"\n",
    "        return len(self._subj_ids)\n",
    "    \n",
    "    def __getitem__(self, index):\n",
    "        \"\"\" generates one sample of data. \"\"\"\n",
    "        # obtain the subject id\n",
    "        subj_id = self._subj_ids[index]\n",
    "        # obtain the data dict by subject id\n",
    "        data = self._data[subj_id]\n",
    "        # convert last admission's diagnosis code index to one hot\n",
    "        x = torch.tensor(to_one_hot(data['icd9'][-1], TOTAL_NUM_CODES), dtype=torch.float32)\n",
    "        # mortality label\n",
    "        y = torch.tensor(data['mortality'], dtype=torch.float32)\n",
    "        return x, y"
   ]
  },
  {
   "cell_type": "code",
   "execution_count": null,
   "metadata": {
    "ExecuteTime": {
     "end_time": "2021-11-17T03:54:38.185141Z",
     "start_time": "2021-11-17T03:54:38.160814Z"
    },
    "deletable": false,
    "editable": false,
    "nbgrader": {
     "cell_type": "code",
     "checksum": "7ec343ef10e0890fe16b3f6a0df824a0",
     "grade": false,
     "grade_id": "cell-f1fa84e603db7295",
     "locked": true,
     "schema_version": 3,
     "solution": false,
     "task": false
    }
   },
   "outputs": [],
   "source": [
    "train_dataset = CustomDataset('train')\n",
    "test_dataset = CustomDataset('test')\n",
    "print('Size of training set:', len(train_dataset))\n",
    "print('Size of testing set:', len(test_dataset))"
   ]
  },
  {
   "cell_type": "markdown",
   "metadata": {
    "deletable": false,
    "editable": false,
    "nbgrader": {
     "cell_type": "markdown",
     "checksum": "7a21ad2ba277e8b1a08b9d4c50b9fcd4",
     "grade": false,
     "grade_id": "cell-76899b402850538d",
     "locked": true,
     "schema_version": 3,
     "solution": false,
     "task": false
    }
   },
   "source": [
    "Here is an example of $x$, and $y$. \n",
    "\n",
    "Note that $x$ is of shape $271$, which means there are $271$ diagnosis codes in total. It is in one-hot format. A $1$ in position $i$ means that diagnosis code of index $i$ appears in the last admission.\n",
    "\n",
    "And $y$ is either $0$ or $1$."
   ]
  },
  {
   "cell_type": "code",
   "execution_count": null,
   "metadata": {
    "ExecuteTime": {
     "end_time": "2021-11-17T03:54:38.194434Z",
     "start_time": "2021-11-17T03:54:38.187583Z"
    },
    "deletable": false,
    "editable": false,
    "nbgrader": {
     "cell_type": "code",
     "checksum": "5635cbe5390e690afe3c31a2e11de3b4",
     "grade": false,
     "grade_id": "cell-4dd4530f03cf96c5",
     "locked": true,
     "schema_version": 3,
     "solution": false,
     "task": false
    }
   },
   "outputs": [],
   "source": [
    "x, y = train_dataset[0]\n",
    "print(f'Example x (shape {x.shape}):\\n', x)\n",
    "print(f'Example y:\\n', y)"
   ]
  },
  {
   "cell_type": "markdown",
   "metadata": {
    "deletable": false,
    "editable": false,
    "nbgrader": {
     "cell_type": "markdown",
     "checksum": "956fe0f03cda3aa8985aea30a04b5eb3",
     "grade": false,
     "grade_id": "cell-bf316b955405e6df",
     "locked": true,
     "schema_version": 3,
     "solution": false,
     "task": false
    }
   },
   "source": [
    "Next, we will load the dataset into a dataloader so that we can we can use it to loop through the dataset for training and testing."
   ]
  },
  {
   "cell_type": "code",
   "execution_count": null,
   "metadata": {
    "ExecuteTime": {
     "end_time": "2021-11-17T03:54:38.200875Z",
     "start_time": "2021-11-17T03:54:38.196478Z"
    },
    "deletable": false,
    "editable": false,
    "nbgrader": {
     "cell_type": "code",
     "checksum": "2e21ba4019fa5f9b5448d12c237ed6ef",
     "grade": false,
     "grade_id": "cell-bcd431efe5ae9156",
     "locked": true,
     "schema_version": 3,
     "solution": false,
     "task": false
    }
   },
   "outputs": [],
   "source": [
    "from torch.utils.data import DataLoader\n",
    "\n",
    "# how many samples per batch to load\n",
    "batch_size = 8\n",
    "\n",
    "# prepare dataloaders\n",
    "train_loader = DataLoader(train_dataset, batch_size=batch_size, shuffle=True)\n",
    "test_loader = DataLoader(test_dataset, batch_size=batch_size)\n",
    "\n",
    "print(\"# of train batches:\", len(train_loader))\n",
    "print(\"# of test batches:\", len(test_loader))"
   ]
  },
  {
   "cell_type": "markdown",
   "metadata": {
    "deletable": false,
    "editable": false,
    "nbgrader": {
     "cell_type": "markdown",
     "checksum": "19021ef75028a2903789669ec9e41cc4",
     "grade": false,
     "grade_id": "cell-0a7933dda0fd9341",
     "locked": true,
     "schema_version": 3,
     "solution": false,
     "task": false
    }
   },
   "source": [
    "You will notice that the data loader is created with a batch size of $8$, and `shuffle=True`. \n",
    "\n",
    "The batch size is the number of samples we get in one iteration from the data loader and pass through our network, often called a batch. \n",
    "\n",
    "And `shuffle=True` tells it to shuffle the dataset every time we start going through the data loader again."
   ]
  },
  {
   "cell_type": "code",
   "execution_count": null,
   "metadata": {
    "ExecuteTime": {
     "end_time": "2021-11-17T03:54:38.207513Z",
     "start_time": "2021-11-17T03:54:38.202693Z"
    },
    "deletable": false,
    "editable": false,
    "nbgrader": {
     "cell_type": "code",
     "checksum": "11341303185c47d5bc9f9dff319e7a86",
     "grade": false,
     "grade_id": "cell-9e4a24ee9cd3568d",
     "locked": true,
     "schema_version": 3,
     "solution": false,
     "task": false
    }
   },
   "outputs": [],
   "source": [
    "train_iter = iter(train_loader)\n",
    "x, y = next(train_iter)\n",
    "\n",
    "print('Shape of a batch x:', x.shape)\n",
    "print('Shape of a batch y:', y.shape)"
   ]
  },
  {
   "cell_type": "markdown",
   "metadata": {
    "deletable": false,
    "editable": false,
    "nbgrader": {
     "cell_type": "markdown",
     "checksum": "43f326b9fc814dff5cd402075b9e5d6e",
     "grade": false,
     "grade_id": "cell-24d2115ed95ebb12",
     "locked": true,
     "schema_version": 3,
     "solution": false,
     "task": false
    }
   },
   "source": [
    "#### Build the Model [30 points]\n",
    "\n",
    "Now, let us build a real NN model. For each patient, the NN model will take an input tensor of 271-dim, and produce an output tensor of 1-dim (0 for non-mortality, 1 for moratality). The detailed model architecture is shown in the table below.\n",
    "\n",
    "Layers | Configuration | Activation Function | Output Dimension (batch, feature)\n",
    "--- | --- | --- | ---\n",
    "fully connected | input size 271, output size 16 | ReLU | (8, 16)\n",
    "dropout | probability 0.5 | - | (8, 16)\n",
    "fully connected | input size 16, output size 1 | Sigmoid | (8, 1)"
   ]
  },
  {
   "cell_type": "code",
   "execution_count": null,
   "metadata": {
    "ExecuteTime": {
     "end_time": "2021-11-17T03:54:38.213713Z",
     "start_time": "2021-11-17T03:54:38.209415Z"
    },
    "deletable": false
   },
   "outputs": [],
   "source": [
    "\"\"\"\n",
    "TODO: Build the MLP shown above.\n",
    "HINT: Consider using `nn.Linear`, `nn.Dropout`, `F.relu`, `torch.sigmoid`.\n",
    "\"\"\"\n",
    "\n",
    "class Net(nn.Module):\n",
    "    def __init__(self):\n",
    "        super(Net, self).__init__()\n",
    "        \n",
    "        # DO NOT change the names\n",
    "        self.fc1 = None\n",
    "        self.dropout = None\n",
    "        self.fc2 = None\n",
    "        \n",
    "        # your code here\n",
    "        raise NotImplementedError\n",
    "\n",
    "    def forward(self, x):\n",
    "        # your code here\n",
    "        raise NotImplementedError"
   ]
  },
  {
   "cell_type": "code",
   "execution_count": null,
   "metadata": {
    "ExecuteTime": {
     "end_time": "2021-11-17T03:54:38.218029Z",
     "start_time": "2021-11-17T03:54:38.215088Z"
    },
    "deletable": false,
    "editable": false,
    "nbgrader": {
     "cell_type": "code",
     "checksum": "d618489e1e9b93ef680e6f6f5ec94f07",
     "grade": false,
     "grade_id": "cell-63a284a8da9fc441",
     "locked": true,
     "schema_version": 3,
     "solution": false,
     "task": false
    }
   },
   "outputs": [],
   "source": [
    "# initialize the NN\n",
    "model = Net()\n",
    "print(model)"
   ]
  },
  {
   "cell_type": "code",
   "execution_count": null,
   "metadata": {
    "ExecuteTime": {
     "end_time": "2021-11-17T03:54:38.225114Z",
     "start_time": "2021-11-17T03:54:38.219398Z"
    },
    "deletable": false,
    "editable": false,
    "nbgrader": {
     "cell_type": "code",
     "checksum": "de1f0145136875014e25be0ec245580b",
     "grade": true,
     "grade_id": "cell-2856eacbec25c451",
     "locked": true,
     "points": 30,
     "schema_version": 3,
     "solution": false,
     "task": false
    }
   },
   "outputs": [],
   "source": [
    "'''\n",
    "AUTOGRADER CELL. DO NOT MODIFY THIS.\n",
    "'''\n",
    "\n",
    "model = Net()\n",
    "\n",
    "assert model.fc1.in_features == 271\n",
    "assert model.fc1.out_features == 16\n",
    "assert model.fc2.in_features == 16\n",
    "assert model.fc2.out_features == 1\n",
    "\n",
    "train_iter = iter(train_loader)\n",
    "x, y = next(train_iter)\n",
    "output = model.forward(x)\n",
    "assert output.shape == (8, 1), \"Net() is wrong!\"\n",
    "\n"
   ]
  },
  {
   "cell_type": "markdown",
   "metadata": {
    "deletable": false,
    "editable": false,
    "nbgrader": {
     "cell_type": "markdown",
     "checksum": "03d274690cc53cf4f7d309f6f0eb2cbc",
     "grade": false,
     "grade_id": "cell-885bcf7a43a6a0ca",
     "locked": true,
     "schema_version": 3,
     "solution": false,
     "task": false
    }
   },
   "source": [
    "Now that we have a network, let's see what happens when we pass in some data."
   ]
  },
  {
   "cell_type": "code",
   "execution_count": null,
   "metadata": {
    "ExecuteTime": {
     "end_time": "2021-11-17T03:54:38.230433Z",
     "start_time": "2021-11-17T03:54:38.226399Z"
    },
    "deletable": false,
    "editable": false,
    "nbgrader": {
     "cell_type": "code",
     "checksum": "a5cb559f7d6d5aba107b1958372c8768",
     "grade": false,
     "grade_id": "cell-7643f7fb214237b9",
     "locked": true,
     "schema_version": 3,
     "solution": false,
     "task": false
    }
   },
   "outputs": [],
   "source": [
    "model = Net()\n",
    "\n",
    "# Grab some data \n",
    "train_iter = iter(train_loader)\n",
    "x, y = next(train_iter)\n",
    "\n",
    "# Forward pass through the network\n",
    "output = model.forward(x)\n",
    "\n",
    "print('Input x shape:', x.shape)\n",
    "print('Output shape: ', output.shape)"
   ]
  },
  {
   "cell_type": "markdown",
   "metadata": {
    "deletable": false,
    "editable": false,
    "nbgrader": {
     "cell_type": "markdown",
     "checksum": "6a6e9dad7bab81b0d7bca3e02ab4fa4a",
     "grade": false,
     "grade_id": "cell-c64c9af2fea16edc",
     "locked": true,
     "schema_version": 3,
     "solution": false,
     "task": false
    }
   },
   "source": [
    "#### Train the Network [40 points]\n",
    "\n",
    "In this step, you will train the NN model. \n",
    "\n",
    "Neural networks with non-linear activations work like universal function approximators. There is some function that maps your input to the output. The power of neural networks is that we can train them to approximate this function, and basically any function given enough data and compute time."
   ]
  },
  {
   "cell_type": "code",
   "execution_count": null,
   "metadata": {
    "ExecuteTime": {
     "end_time": "2021-11-17T03:54:38.234339Z",
     "start_time": "2021-11-17T03:54:38.231866Z"
    },
    "deletable": false,
    "editable": false,
    "nbgrader": {
     "cell_type": "code",
     "checksum": "093b987d3af6bf12f8f3f35900181d91",
     "grade": false,
     "grade_id": "cell-f0a1fb4c37dc0136",
     "locked": true,
     "schema_version": 3,
     "solution": false,
     "task": false
    }
   },
   "outputs": [],
   "source": [
    "model = Net()"
   ]
  },
  {
   "cell_type": "markdown",
   "metadata": {
    "deletable": false,
    "editable": false,
    "nbgrader": {
     "cell_type": "markdown",
     "checksum": "de2b87bb74cabd249f7ba35bc85a0b3d",
     "grade": false,
     "grade_id": "cell-576bb97492aece63",
     "locked": true,
     "schema_version": 3,
     "solution": false,
     "task": false
    }
   },
   "source": [
    "**Losses in PyTorch [10 points]**\n",
    "\n",
    "In the previous lab, we implement the loss function from scratch.\n",
    "\n",
    "Let us start by seeing how we calculate the loss with PyTorch. Through the `nn.module`, PyTorch provides losses such as the binary cross-entropy loss (`nn.BCELoss`). You will usually see the loss assigned to `criterion`. \n",
    "\n",
    "As noted in the last part, with a classification problem such as Mortality Prediction, we are using the Sigmoid function to predict mortality probability. With a Sigmoid output, you want to use binary cross-entropy as the loss. To actually calculate the loss, you first define the criterion then pass in the output of your network and the correct labels."
   ]
  },
  {
   "cell_type": "code",
   "execution_count": null,
   "metadata": {
    "ExecuteTime": {
     "end_time": "2021-11-17T03:54:38.237763Z",
     "start_time": "2021-11-17T03:54:38.235663Z"
    },
    "deletable": false
   },
   "outputs": [],
   "source": [
    "\"\"\"\n",
    "TODO: Define the loss (BCELoss), assign it to `criterion`.\n",
    "\n",
    "REFERENCE: https://pytorch.org/docs/stable/generated/torch.nn.BCELoss.html#torch.nn.BCELoss\n",
    "\"\"\"\n",
    "\n",
    "criterion = None\n",
    "\n",
    "# your code here\n",
    "raise NotImplementedError"
   ]
  },
  {
   "cell_type": "code",
   "execution_count": null,
   "metadata": {
    "ExecuteTime": {
     "end_time": "2021-11-17T03:54:38.241011Z",
     "start_time": "2021-11-17T03:54:38.239031Z"
    },
    "deletable": false,
    "editable": false,
    "nbgrader": {
     "cell_type": "code",
     "checksum": "5135a2650760bc6728702e80f98de306",
     "grade": true,
     "grade_id": "cell-657d74b9707831fe",
     "locked": true,
     "points": 10,
     "schema_version": 3,
     "solution": false,
     "task": false
    }
   },
   "outputs": [],
   "source": [
    "'''\n",
    "AUTOGRADER CELL. DO NOT MODIFY THIS.\n",
    "'''\n",
    "\n",
    "assert type(criterion) is nn.modules.loss.BCELoss, \"criterion is not BCELoss!\"\n",
    "\n"
   ]
  },
  {
   "cell_type": "markdown",
   "metadata": {
    "deletable": false,
    "editable": false,
    "nbgrader": {
     "cell_type": "markdown",
     "checksum": "1ed1d7d54902e93083becd532476740c",
     "grade": false,
     "grade_id": "cell-841b6edaf5f415de",
     "locked": true,
     "schema_version": 3,
     "solution": false,
     "task": false
    }
   },
   "source": [
    "**Optimizer in PyTorch [10 points]**\n",
    "\n",
    "Optimizer can update the weights with the gradients.  In the previous lab, we implement the sgd optimizer from scratch. We can get these from PyTorch's `optim` package. For example we can use stochastic gradient descent with `optim.SGD`."
   ]
  },
  {
   "cell_type": "code",
   "execution_count": null,
   "metadata": {
    "ExecuteTime": {
     "end_time": "2021-11-17T03:54:38.244862Z",
     "start_time": "2021-11-17T03:54:38.242343Z"
    },
    "deletable": false
   },
   "outputs": [],
   "source": [
    "\"\"\"\n",
    "TODO: Define the optimizer (SGD) with learning rate 0.01, assign it to `optimizer`.\n",
    "\n",
    "REFERENCE: https://pytorch.org/docs/stable/optim.html\n",
    "\"\"\"\n",
    "\n",
    "optimizer = None\n",
    "\n",
    "# your code here\n",
    "raise NotImplementedError"
   ]
  },
  {
   "cell_type": "code",
   "execution_count": null,
   "metadata": {
    "ExecuteTime": {
     "end_time": "2021-11-17T03:54:38.248601Z",
     "start_time": "2021-11-17T03:54:38.246132Z"
    },
    "deletable": false,
    "editable": false,
    "nbgrader": {
     "cell_type": "code",
     "checksum": "adc49de2a343c5d9f7aefcc65375dae3",
     "grade": true,
     "grade_id": "cell-5d7a20ac55509d77",
     "locked": true,
     "points": 10,
     "schema_version": 3,
     "solution": false,
     "task": false
    }
   },
   "outputs": [],
   "source": [
    "'''\n",
    "AUTOGRADER CELL. DO NOT MODIFY THIS.\n",
    "'''\n",
    "\n",
    "assert type(optimizer) is torch.optim.SGD, \"optimizer is not SGD!\"\n",
    "assert optimizer.param_groups[0]['lr'] == 0.01, \"learning rate is not 0.01!\"\n",
    "\n"
   ]
  },
  {
   "cell_type": "markdown",
   "metadata": {
    "deletable": false,
    "editable": false,
    "nbgrader": {
     "cell_type": "markdown",
     "checksum": "254141e331ce1a94819eafe106ad6623",
     "grade": false,
     "grade_id": "cell-5b88cc469821dbe6",
     "locked": true,
     "schema_version": 3,
     "solution": false,
     "task": false
    }
   },
   "source": [
    "Now let us train the NN model we previously created.\n",
    "\n",
    "**Evaluate [10 points]**\n",
    "\n",
    "First, let us implement the `evaluate` function that will be called to evaluate the model performance when training."
   ]
  },
  {
   "cell_type": "code",
   "execution_count": null,
   "metadata": {
    "ExecuteTime": {
     "end_time": "2021-11-17T03:54:38.858467Z",
     "start_time": "2021-11-17T03:54:38.249822Z"
    },
    "deletable": false
   },
   "outputs": [],
   "source": [
    "from sklearn.metrics import *\n",
    "\n",
    "#input: Y_score,Y_pred,Y_true\n",
    "#output: accuracy, auc, precision, recall, f1-score\n",
    "def classification_metrics(Y_score, Y_pred, Y_true):\n",
    "    acc, auc, precision, recall, f1score = accuracy_score(Y_true, Y_pred), \\\n",
    "                                           roc_auc_score(Y_true, Y_score), \\\n",
    "                                           precision_score(Y_true, Y_pred), \\\n",
    "                                           recall_score(Y_true, Y_pred), \\\n",
    "                                           f1_score(Y_true, Y_pred)\n",
    "    return acc, auc, precision, recall, f1score\n",
    "\n",
    "\n",
    "#input: model, loader\n",
    "def evaluate(model, loader):\n",
    "    model.eval()\n",
    "    all_y_true = torch.LongTensor()\n",
    "    all_y_pred = torch.LongTensor()\n",
    "    all_y_score = torch.FloatTensor()\n",
    "    for x, y in loader:\n",
    "        # pass the input through the model\n",
    "        y_hat = model(x)\n",
    "        # convert shape from [batch size, 1] to [batch size]\n",
    "        y_hat = y_hat.view(y_hat.shape[0])\n",
    "        \"\"\"\n",
    "        TODO: obtain the predicted class (0, 1) by comparing y_hat against 0.5,\n",
    "        assign the predicted class to y_pred.\n",
    "        \"\"\"\n",
    "        y_pred = None\n",
    "        # your code here\n",
    "        raise NotImplementedError\n",
    "        all_y_true = torch.cat((all_y_true, y.to('cpu')), dim=0)\n",
    "        all_y_pred = torch.cat((all_y_pred,  y_pred.to('cpu')), dim=0)\n",
    "        all_y_score = torch.cat((all_y_score,  y_hat.to('cpu')), dim=0)\n",
    "        \n",
    "    acc, auc, precision, recall, f1 = classification_metrics(all_y_score.detach().numpy(), \n",
    "                                                             all_y_pred.detach().numpy(), \n",
    "                                                             all_y_true.detach().numpy())\n",
    "    print(f\"acc: {acc:.3f}, auc: {auc:.3f}, precision: {precision:.3f}, recall: {recall:.3f}, f1: {f1:.3f}\")\n",
    "    return acc, auc, precision, recall, f1"
   ]
  },
  {
   "cell_type": "code",
   "execution_count": null,
   "metadata": {
    "ExecuteTime": {
     "end_time": "2021-11-17T03:54:39.089594Z",
     "start_time": "2021-11-17T03:54:38.860053Z"
    },
    "deletable": false,
    "editable": false,
    "nbgrader": {
     "cell_type": "code",
     "checksum": "58552269dec713e6fd6489e82966247b",
     "grade": true,
     "grade_id": "cell-8970a0bdbd7b14bb",
     "locked": true,
     "points": 10,
     "schema_version": 3,
     "solution": false,
     "task": false
    }
   },
   "outputs": [],
   "source": [
    "'''\n",
    "AUTOGRADER CELL. DO NOT MODIFY THIS.\n",
    "'''\n",
    "\n",
    "print(\"model perfomance before training:\")\n",
    "acc, auc, precision, recall, f1 = evaluate(model, train_loader)\n",
    "assert auc <= 0.6\n",
    "acc, auc, precision, recall, f1 = evaluate(model, test_loader)\n",
    "assert auc <= 0.6\n",
    "\n"
   ]
  },
  {
   "cell_type": "markdown",
   "metadata": {
    "deletable": false,
    "editable": false,
    "nbgrader": {
     "cell_type": "markdown",
     "checksum": "addc1ea8ee49be7e9b03cf228ab83469",
     "grade": false,
     "grade_id": "cell-3f7737daea843131",
     "locked": true,
     "schema_version": 3,
     "solution": false,
     "task": false
    }
   },
   "source": [
    "**Training [10 points]**\n",
    "\n",
    "To train the model, you should follow the following step:\n",
    "- Clear the gradients of all optimized variables\n",
    "- Forward pass: compute predicted outputs by passing inputs to the model\n",
    "- Calculate the loss\n",
    "- Backward pass: compute gradient of the loss with respect to model parameters\n",
    "- Perform a single optimization step (parameter update)\n",
    "- Update average training loss"
   ]
  },
  {
   "cell_type": "code",
   "execution_count": null,
   "metadata": {
    "ExecuteTime": {
     "end_time": "2021-11-17T03:54:39.090994Z",
     "start_time": "2021-11-17T03:54:39.090984Z"
    },
    "deletable": false
   },
   "outputs": [],
   "source": [
    "# number of epochs to train the model\n",
    "# feel free to change this\n",
    "n_epochs = 60\n",
    "\n",
    "# prep model for training\n",
    "model.train()\n",
    "\n",
    "for epoch in range(n_epochs):\n",
    "    \n",
    "    train_loss = 0\n",
    "    for x, y in train_loader:\n",
    "        \"\"\" Step 1. clear gradients \"\"\"\n",
    "        optimizer.zero_grad()\n",
    "        \"\"\" \n",
    "        TODO: Step 2. perform forward pass using `model`, save the output to y_hat;\n",
    "              Step 3. calculate the loss using `criterion`, save the output to loss.\n",
    "        \"\"\"\n",
    "        y_hat = None\n",
    "        loss = None\n",
    "        # your code here\n",
    "        raise NotImplementedError\n",
    "        \"\"\" Step 4. backward pass \"\"\"\n",
    "        loss.backward()\n",
    "        \"\"\" Step 5. optimization \"\"\"\n",
    "        optimizer.step()\n",
    "        \"\"\" Step 6. record loss \"\"\"\n",
    "        train_loss += loss.item()\n",
    "        \n",
    "    train_loss = train_loss / len(train_loader)\n",
    "    print('Epoch: {} \\tTraining Loss: {:.6f}'.format(epoch+1, train_loss))\n",
    "    evaluate(model, test_loader)"
   ]
  },
  {
   "cell_type": "code",
   "execution_count": null,
   "metadata": {
    "ExecuteTime": {
     "end_time": "2021-11-17T03:54:39.092476Z",
     "start_time": "2021-11-17T03:54:39.092464Z"
    },
    "deletable": false,
    "editable": false,
    "nbgrader": {
     "cell_type": "code",
     "checksum": "45e3d91412fdaed6282bb1948e6469cf",
     "grade": true,
     "grade_id": "cell-0a6209d710abfccb",
     "locked": true,
     "points": 10,
     "schema_version": 3,
     "solution": false,
     "task": false
    }
   },
   "outputs": [],
   "source": [
    "'''\n",
    "AUTOGRADER CELL. DO NOT MODIFY THIS.\n",
    "'''\n",
    "\n",
    "acc, auc, precision, recall, f1 = evaluate(model, test_loader)\n",
    "assert auc > 0.6\n",
    "\n"
   ]
  },
  {
   "cell_type": "markdown",
   "metadata": {
    "deletable": false,
    "editable": false,
    "nbgrader": {
     "cell_type": "markdown",
     "checksum": "66508498c5fb07b42aef1bdeaca50674",
     "grade": false,
     "grade_id": "cell-caeda9a9dfcb7d80",
     "locked": true,
     "schema_version": 3,
     "solution": false,
     "task": false
    }
   },
   "source": [
    "You should get a auc score around $0.6$. This is not ideal since we only have very limited amount of data. With more data, we will expect much better performance (usually with a larger model)."
   ]
  }
 ],
 "metadata": {
  "illinois_payload": {
   "b64z": "",
   "nb_path": "release/LAB2/LAB2.ipynb"
  },
  "kernelspec": {
   "display_name": "Python 3 (Threads: 2)",
   "language": "python",
   "name": "python3"
  },
  "language_info": {
   "codemirror_mode": {
    "name": "ipython",
    "version": 3
   },
   "file_extension": ".py",
   "mimetype": "text/x-python",
   "name": "python",
   "nbconvert_exporter": "python",
   "pygments_lexer": "ipython3",
   "version": "3.8.12"
  },
  "toc": {
   "base_numbering": 1,
   "nav_menu": {},
   "number_sections": false,
   "sideBar": true,
   "skip_h1_title": true,
   "title_cell": "Table of Contents",
   "title_sidebar": "Contents",
   "toc_cell": false,
   "toc_position": {
    "height": "calc(100% - 180px)",
    "left": "10px",
    "top": "150px",
    "width": "292.390625px"
   },
   "toc_section_display": true,
   "toc_window_display": true
  },
  "varInspector": {
   "cols": {
    "lenName": 16,
    "lenType": 16,
    "lenVar": 40
   },
   "kernels_config": {
    "python": {
     "delete_cmd_postfix": "",
     "delete_cmd_prefix": "del ",
     "library": "var_list.py",
     "varRefreshCmd": "print(var_dic_list())"
    },
    "r": {
     "delete_cmd_postfix": ") ",
     "delete_cmd_prefix": "rm(",
     "library": "var_list.r",
     "varRefreshCmd": "cat(var_dic_list()) "
    }
   },
   "position": {
    "height": "524px",
    "left": "1423px",
    "right": "20px",
    "top": "120px",
    "width": "348px"
   },
   "types_to_exclude": [
    "module",
    "function",
    "builtin_function_or_method",
    "instance",
    "_Feature"
   ],
   "window_display": false
  }
 },
 "nbformat": 4,
 "nbformat_minor": 2
}
